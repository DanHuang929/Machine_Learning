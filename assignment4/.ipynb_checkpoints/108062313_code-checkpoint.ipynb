{
 "cells": [
  {
   "cell_type": "code",
   "execution_count": 1,
   "id": "thermal-amateur",
   "metadata": {
    "executionInfo": {
     "elapsed": 3,
     "status": "ok",
     "timestamp": 1640203008362,
     "user": {
      "displayName": "黃允暘",
      "photoUrl": "https://lh3.googleusercontent.com/a/default-user=s64",
      "userId": "06397507488195711781"
     },
     "user_tz": -480
    },
    "id": "thermal-amateur"
   },
   "outputs": [],
   "source": [
    "import numpy as np\n",
    "import pandas as pd\n",
    "from PIL import Image\n",
    "import matplotlib.pyplot as plt\n",
    "import matplotlib.image as img"
   ]
  },
  {
   "cell_type": "code",
   "execution_count": 2,
   "id": "9801d5cc",
   "metadata": {
    "executionInfo": {
     "elapsed": 564,
     "status": "ok",
     "timestamp": 1640203010724,
     "user": {
      "displayName": "黃允暘",
      "photoUrl": "https://lh3.googleusercontent.com/a/default-user=s64",
      "userId": "06397507488195711781"
     },
     "user_tz": -480
    },
    "id": "9801d5cc"
   },
   "outputs": [],
   "source": [
    "import os\n",
    "import keras\n",
    "from sklearn.metrics import f1_score\n",
    "from tensorflow.keras.models import Sequential  \n",
    "from tensorflow.keras.models import Model\n",
    "from tensorflow.keras.layers import Conv2D  \n",
    "from tensorflow.keras.layers import MaxPooling2D \n",
    "from tensorflow.keras.layers import Flatten\n",
    "from tensorflow.keras.layers import Dense \n",
    "from sklearn.ensemble import RandomForestClassifier"
   ]
  },
  {
   "cell_type": "code",
   "execution_count": 4,
   "id": "609de765",
   "metadata": {
    "executionInfo": {
     "elapsed": 368,
     "status": "ok",
     "timestamp": 1640203024467,
     "user": {
      "displayName": "黃允暘",
      "photoUrl": "https://lh3.googleusercontent.com/a/default-user=s64",
      "userId": "06397507488195711781"
     },
     "user_tz": -480
    },
    "id": "609de765"
   },
   "outputs": [],
   "source": [
    "# from tensorflow.keras.applications.resnet50 import ResNet50"
   ]
  },
  {
   "cell_type": "code",
   "execution_count": 5,
   "id": "appreciated-penetration",
   "metadata": {
    "colab": {
     "base_uri": "https://localhost:8080/"
    },
    "executionInfo": {
     "elapsed": 16018,
     "status": "ok",
     "timestamp": 1640203041003,
     "user": {
      "displayName": "黃允暘",
      "photoUrl": "https://lh3.googleusercontent.com/a/default-user=s64",
      "userId": "06397507488195711781"
     },
     "user_tz": -480
    },
    "id": "appreciated-penetration",
    "outputId": "061564aa-d5a0-409b-8022-69421c706b45"
   },
   "outputs": [],
   "source": [
    "# from google.colab import drive\n",
    "# drive.mount('/content/drive')"
   ]
  },
  {
   "cell_type": "code",
   "execution_count": 6,
   "id": "f1c467bb",
   "metadata": {
    "executionInfo": {
     "elapsed": 6,
     "status": "ok",
     "timestamp": 1640203041003,
     "user": {
      "displayName": "黃允暘",
      "photoUrl": "https://lh3.googleusercontent.com/a/default-user=s64",
      "userId": "06397507488195711781"
     },
     "user_tz": -480
    },
    "id": "f1c467bb"
   },
   "outputs": [],
   "source": [
    "STUDENT_ID = '108062313'"
   ]
  },
  {
   "cell_type": "code",
   "execution_count": 7,
   "id": "accepted-italic",
   "metadata": {
    "colab": {
     "base_uri": "https://localhost:8080/"
    },
    "executionInfo": {
     "elapsed": 4684,
     "status": "ok",
     "timestamp": 1640203045682,
     "user": {
      "displayName": "黃允暘",
      "photoUrl": "https://lh3.googleusercontent.com/a/default-user=s64",
      "userId": "06397507488195711781"
     },
     "user_tz": -480
    },
    "id": "accepted-italic",
    "outputId": "7b99d694-1310-472f-a8e9-307ff2e533d8"
   },
   "outputs": [],
   "source": [
    "# !unzip \"/content/drive/MyDrive/HW4_data\""
   ]
  },
  {
   "cell_type": "code",
   "execution_count": 8,
   "id": "healthy-filing",
   "metadata": {
    "executionInfo": {
     "elapsed": 2398,
     "status": "ok",
     "timestamp": 1640203048078,
     "user": {
      "displayName": "黃允暘",
      "photoUrl": "https://lh3.googleusercontent.com/a/default-user=s64",
      "userId": "06397507488195711781"
     },
     "user_tz": -480
    },
    "id": "healthy-filing"
   },
   "outputs": [],
   "source": [
    "X_train = []\n",
    "for i in range(10000):\n",
    "    X_train.append(np.asarray(Image.open(\"HW4_data/public/train_{i}.jpg\".format(i=i))))\n",
    "    \n",
    "df_train = pd.read_csv(\"HW4_data/public/train_label.csv\", index_col=0)\n",
    "X_train = np.array(X_train)"
   ]
  },
  {
   "cell_type": "code",
   "execution_count": 9,
   "id": "protective-logan",
   "metadata": {
    "executionInfo": {
     "elapsed": 558,
     "status": "ok",
     "timestamp": 1640203048631,
     "user": {
      "displayName": "黃允暘",
      "photoUrl": "https://lh3.googleusercontent.com/a/default-user=s64",
      "userId": "06397507488195711781"
     },
     "user_tz": -480
    },
    "id": "protective-logan"
   },
   "outputs": [],
   "source": [
    "X_val = []\n",
    "for i in range(1000):\n",
    "    X_val.append(np.asarray(Image.open(\"HW4_data/public/val_{i}.jpg\".format(i=i))))\n",
    "    \n",
    "df_val = pd.read_csv(\"HW4_data/public/val_label.csv\", index_col=0)\n",
    "X_val = np.array(X_val)"
   ]
  },
  {
   "cell_type": "code",
   "execution_count": 10,
   "id": "killing-final",
   "metadata": {
    "executionInfo": {
     "elapsed": 386,
     "status": "ok",
     "timestamp": 1640203049013,
     "user": {
      "displayName": "黃允暘",
      "photoUrl": "https://lh3.googleusercontent.com/a/default-user=s64",
      "userId": "06397507488195711781"
     },
     "user_tz": -480
    },
    "id": "killing-final"
   },
   "outputs": [],
   "source": [
    "X_test = []\n",
    "for i in range(1500):\n",
    "    if os.path.exists(\"HW4_data/private/test_\"+ str(i) +\".jpg\"):\n",
    "        X_test.append(np.asarray(Image.open(\"HW4_data/private/test_{i}.jpg\".format(i=i))))\n",
    "    \n",
    "\n",
    "df_test_demo = pd.read_csv(\"HW4_data/private/test_demo.csv\", index_col=0)\n",
    "X_test = np.array(X_test)"
   ]
  },
  {
   "cell_type": "code",
   "execution_count": 18,
   "id": "9057fda1",
   "metadata": {
    "executionInfo": {
     "elapsed": 6,
     "status": "ok",
     "timestamp": 1640199073710,
     "user": {
      "displayName": "黃允暘",
      "photoUrl": "https://lh3.googleusercontent.com/a/default-user=s64",
      "userId": "06397507488195711781"
     },
     "user_tz": -480
    },
    "id": "9057fda1"
   },
   "outputs": [],
   "source": [
    "# basic ==========================================="
   ]
  },
  {
   "cell_type": "code",
   "execution_count": 29,
   "id": "d0032b72",
   "metadata": {
    "colab": {
     "base_uri": "https://localhost:8080/"
    },
    "executionInfo": {
     "elapsed": 280,
     "status": "ok",
     "timestamp": 1640199294138,
     "user": {
      "displayName": "黃允暘",
      "photoUrl": "https://lh3.googleusercontent.com/a/default-user=s64",
      "userId": "06397507488195711781"
     },
     "user_tz": -480
    },
    "id": "d0032b72",
    "outputId": "34c8e69c-20b9-49c5-b2bf-1c1179522584"
   },
   "outputs": [
    {
     "name": "stdout",
     "output_type": "stream",
     "text": [
      "Model: \"sequential_1\"\n",
      "_________________________________________________________________\n",
      " Layer (type)                Output Shape              Param #   \n",
      "=================================================================\n",
      " conv2d_8 (Conv2D)           (None, 126, 126, 32)      320       \n",
      "                                                                 \n",
      " conv2d_9 (Conv2D)           (None, 124, 124, 32)      9248      \n",
      "                                                                 \n",
      " max_pooling2d_3 (MaxPooling  (None, 62, 62, 32)       0         \n",
      " 2D)                                                             \n",
      "                                                                 \n",
      " conv2d_10 (Conv2D)          (None, 60, 60, 32)        9248      \n",
      "                                                                 \n",
      " conv2d_11 (Conv2D)          (None, 58, 58, 32)        9248      \n",
      "                                                                 \n",
      " max_pooling2d_4 (MaxPooling  (None, 29, 29, 32)       0         \n",
      " 2D)                                                             \n",
      "                                                                 \n",
      " conv2d_12 (Conv2D)          (None, 27, 27, 32)        9248      \n",
      "                                                                 \n",
      " conv2d_13 (Conv2D)          (None, 25, 25, 32)        9248      \n",
      "                                                                 \n",
      " conv2d_14 (Conv2D)          (None, 23, 23, 32)        9248      \n",
      "                                                                 \n",
      " conv2d_15 (Conv2D)          (None, 21, 21, 32)        9248      \n",
      "                                                                 \n",
      " max_pooling2d_5 (MaxPooling  (None, 10, 10, 32)       0         \n",
      " 2D)                                                             \n",
      "                                                                 \n",
      " flatten_1 (Flatten)         (None, 3200)              0         \n",
      "                                                                 \n",
      " dense_2 (Dense)             (None, 128)               409728    \n",
      "                                                                 \n",
      " dense_3 (Dense)             (None, 1)                 129       \n",
      "                                                                 \n",
      "=================================================================\n",
      "Total params: 474,913\n",
      "Trainable params: 474,913\n",
      "Non-trainable params: 0\n",
      "_________________________________________________________________\n"
     ]
    }
   ],
   "source": [
    "model_basic = Sequential() \n",
    "\n",
    "#first convolutional layer\n",
    "model_basic.add(Conv2D(32, kernel_size=3, input_shape = (128, 128, 1), activation = 'relu'))\n",
    "model_basic.add(Conv2D(32, kernel_size=3, activation = 'relu'))\n",
    "model_basic.add(MaxPooling2D(pool_size = (2, 2)))\n",
    "\n",
    "# Second convolutional layer\n",
    "model_basic.add(Conv2D(32, kernel_size=3, activation = 'relu'))\n",
    "model_basic.add(Conv2D(32, kernel_size=3, activation = 'relu'))\n",
    "model_basic.add(MaxPooling2D(pool_size = (2, 2)))\n",
    "\n",
    "# Third convolutional layer\n",
    "model_basic.add(Conv2D(32, kernel_size=3, activation = 'relu'))\n",
    "model_basic.add(Conv2D(32, kernel_size=3, activation = 'relu'))\n",
    "model_basic.add(Conv2D(32, kernel_size=3, activation = 'relu'))\n",
    "model_basic.add(Conv2D(32, kernel_size=3, activation = 'relu'))\n",
    "model_basic.add(MaxPooling2D(pool_size=(2, 2)))\n",
    "\n",
    "model_basic.add(Flatten())\n",
    "\n",
    "model_basic.add(Dense(units=128, activation = 'relu'))\n",
    "model_basic.add(Dense(units=1, activation = 'sigmoid'))\n",
    "\n",
    "model_basic.compile(optimizer = 'adam', loss = 'binary_crossentropy', metrics = ['accuracy'])\n",
    "\n",
    "model_basic.summary()\n"
   ]
  },
  {
   "cell_type": "code",
   "execution_count": 30,
   "id": "9c1ca87b",
   "metadata": {
    "colab": {
     "base_uri": "https://localhost:8080/"
    },
    "executionInfo": {
     "elapsed": 147370,
     "status": "ok",
     "timestamp": 1640199441760,
     "user": {
      "displayName": "黃允暘",
      "photoUrl": "https://lh3.googleusercontent.com/a/default-user=s64",
      "userId": "06397507488195711781"
     },
     "user_tz": -480
    },
    "id": "9c1ca87b",
    "outputId": "398fc39c-6644-4131-8798-b282a9303b7e"
   },
   "outputs": [
    {
     "name": "stdout",
     "output_type": "stream",
     "text": [
      "Epoch 1/5\n",
      "313/313 [==============================] - 37s 87ms/step - loss: 0.4999 - accuracy: 0.7587 - val_loss: 0.4301 - val_accuracy: 0.7880\n",
      "Epoch 2/5\n",
      "313/313 [==============================] - 28s 90ms/step - loss: 0.4017 - accuracy: 0.8178 - val_loss: 0.3907 - val_accuracy: 0.8230\n",
      "Epoch 3/5\n",
      "313/313 [==============================] - 28s 88ms/step - loss: 0.3762 - accuracy: 0.8287 - val_loss: 0.3860 - val_accuracy: 0.8240\n",
      "Epoch 4/5\n",
      "313/313 [==============================] - 26s 84ms/step - loss: 0.3560 - accuracy: 0.8413 - val_loss: 0.4458 - val_accuracy: 0.8130\n",
      "Epoch 5/5\n",
      "313/313 [==============================] - 28s 89ms/step - loss: 0.3439 - accuracy: 0.8464 - val_loss: 0.3282 - val_accuracy: 0.8550\n"
     ]
    }
   ],
   "source": [
    "history_basic = model_basic.fit(X_train, df_train[\"Edema\"], validation_data=(X_val, df_val[\"Edema\"]), epochs=5)\n",
    "model_basic.save('basic_model.h5')\n",
    "# model_basis=keras.models.load_model('basic_model.h5')"
   ]
  },
  {
   "cell_type": "code",
   "execution_count": 40,
   "id": "c6406f73",
   "metadata": {
    "executionInfo": {
     "elapsed": 1400,
     "status": "ok",
     "timestamp": 1640199546553,
     "user": {
      "displayName": "黃允暘",
      "photoUrl": "https://lh3.googleusercontent.com/a/default-user=s64",
      "userId": "06397507488195711781"
     },
     "user_tz": -480
    },
    "id": "c6406f73"
   },
   "outputs": [],
   "source": [
    "basic_pred=model_basic.predict(X_test)\n",
    "basic_pred=(basic_pred>0.5)"
   ]
  },
  {
   "cell_type": "code",
   "execution_count": 34,
   "id": "b2b27461",
   "metadata": {
    "colab": {
     "base_uri": "https://localhost:8080/"
    },
    "executionInfo": {
     "elapsed": 3,
     "status": "ok",
     "timestamp": 1640199456040,
     "user": {
      "displayName": "黃允暘",
      "photoUrl": "https://lh3.googleusercontent.com/a/default-user=s64",
      "userId": "06397507488195711781"
     },
     "user_tz": -480
    },
    "id": "b2b27461",
    "outputId": "a270dbeb-90d2-4cad-a177-e7ec0ee12073"
   },
   "outputs": [
    {
     "data": {
      "text/plain": [
       "0.7396768402154399"
      ]
     },
     "execution_count": 34,
     "metadata": {},
     "output_type": "execute_result"
    }
   ],
   "source": [
    "f1_score(df_val[\"Edema\"], basic_pred)"
   ]
  },
  {
   "cell_type": "code",
   "execution_count": 41,
   "id": "bd57e20c",
   "metadata": {
    "executionInfo": {
     "elapsed": 5204,
     "status": "ok",
     "timestamp": 1640199552001,
     "user": {
      "displayName": "黃允暘",
      "photoUrl": "https://lh3.googleusercontent.com/a/default-user=s64",
      "userId": "06397507488195711781"
     },
     "user_tz": -480
    },
    "id": "bd57e20c"
   },
   "outputs": [],
   "source": [
    "output_path = STUDENT_ID + '_basic_prediction.csv'\n",
    "basic_output = pd.DataFrame()\n",
    "for i in range(len(X_test)):\n",
    "    basic_output=basic_output.append({\"\":round(i), 'Edema': int(basic_pred[i]) }, ignore_index=True)\n",
    "\n",
    "basic_output.to_csv(output_path, index = False)"
   ]
  },
  {
   "cell_type": "code",
   "execution_count": 106,
   "id": "e7a6a30b",
   "metadata": {
    "executionInfo": {
     "elapsed": 254,
     "status": "ok",
     "timestamp": 1640162885311,
     "user": {
      "displayName": "黃允暘",
      "photoUrl": "https://lh3.googleusercontent.com/a/default-user=s64",
      "userId": "06397507488195711781"
     },
     "user_tz": -480
    },
    "id": "e7a6a30b"
   },
   "outputs": [],
   "source": [
    "# bonus ==========================================="
   ]
  },
  {
   "cell_type": "code",
   "execution_count": 52,
   "id": "4da7778a",
   "metadata": {
    "colab": {
     "base_uri": "https://localhost:8080/"
    },
    "executionInfo": {
     "elapsed": 10624,
     "status": "ok",
     "timestamp": 1640200037885,
     "user": {
      "displayName": "黃允暘",
      "photoUrl": "https://lh3.googleusercontent.com/a/default-user=s64",
      "userId": "06397507488195711781"
     },
     "user_tz": -480
    },
    "id": "4da7778a",
    "outputId": "d95ca270-8b29-465e-c555-7fe34333b489"
   },
   "outputs": [
    {
     "name": "stdout",
     "output_type": "stream",
     "text": [
      "(10000, 3)\n"
     ]
    }
   ],
   "source": [
    "X_train_pred = model_basic.predict(X_train)\n",
    "X_train_pred=np.round(X_train_pred)\n",
    "age = df_train[\"Age\"]\n",
    "age = np.expand_dims(age, axis=-1)\n",
    "gender = df_train[\"Gender\"]\n",
    "gender = np.expand_dims(gender, axis=-1)\n",
    "X_train_bonus=np.concatenate([X_train_pred, age, gender], axis=1)\n",
    "print(X_train_bonus.shape)"
   ]
  },
  {
   "cell_type": "code",
   "execution_count": 53,
   "id": "K4Tsv4dEFMYX",
   "metadata": {
    "executionInfo": {
     "elapsed": 1039,
     "status": "ok",
     "timestamp": 1640200038897,
     "user": {
      "displayName": "黃允暘",
      "photoUrl": "https://lh3.googleusercontent.com/a/default-user=s64",
      "userId": "06397507488195711781"
     },
     "user_tz": -480
    },
    "id": "K4Tsv4dEFMYX"
   },
   "outputs": [],
   "source": [
    "X_val_pred = model_basic.predict(X_val)\n",
    "X_val_pred=np.round(X_val_pred)\n",
    "age = df_val[\"Age\"]\n",
    "age = np.expand_dims(age, axis=-1)\n",
    "gender = df_val[\"Gender\"]\n",
    "gender = np.expand_dims(gender, axis=-1)\n",
    "X_val_bonus=np.concatenate([X_val_pred, age, gender], axis=1)"
   ]
  },
  {
   "cell_type": "code",
   "execution_count": 68,
   "id": "DNer7lQfjDh4",
   "metadata": {
    "executionInfo": {
     "elapsed": 1827,
     "status": "ok",
     "timestamp": 1640200426081,
     "user": {
      "displayName": "黃允暘",
      "photoUrl": "https://lh3.googleusercontent.com/a/default-user=s64",
      "userId": "06397507488195711781"
     },
     "user_tz": -480
    },
    "id": "DNer7lQfjDh4"
   },
   "outputs": [],
   "source": [
    "X_test_pred = model_basic.predict(X_test)\n",
    "X_teste_pred=np.round(X_test_pred)\n",
    "age = df_test_demo[\"Age\"]\n",
    "age = np.expand_dims(age, axis=-1)\n",
    "gender = df_test_demo[\"Gender\"]\n",
    "gender = np.expand_dims(gender, axis=-1)\n",
    "X_test_bonus=np.concatenate([X_test_pred, age, gender], axis=1)"
   ]
  },
  {
   "cell_type": "code",
   "execution_count": 58,
   "id": "994777cd",
   "metadata": {
    "colab": {
     "base_uri": "https://localhost:8080/"
    },
    "executionInfo": {
     "elapsed": 1136,
     "status": "ok",
     "timestamp": 1640200071986,
     "user": {
      "displayName": "黃允暘",
      "photoUrl": "https://lh3.googleusercontent.com/a/default-user=s64",
      "userId": "06397507488195711781"
     },
     "user_tz": -480
    },
    "id": "994777cd",
    "outputId": "85d47311-aef8-496b-871e-76ca94518eb2"
   },
   "outputs": [
    {
     "data": {
      "text/plain": [
       "RandomForestClassifier(random_state=0)"
      ]
     },
     "execution_count": 58,
     "metadata": {},
     "output_type": "execute_result"
    }
   ],
   "source": [
    "model_bonus = RandomForestClassifier(n_estimators=100, random_state=0)\n",
    "model_bonus.fit(X_train_bonus, df_train[\"Edema\"])"
   ]
  },
  {
   "cell_type": "code",
   "execution_count": 69,
   "id": "gBY-NvFSEmOs",
   "metadata": {
    "executionInfo": {
     "elapsed": 241,
     "status": "ok",
     "timestamp": 1640200434465,
     "user": {
      "displayName": "黃允暘",
      "photoUrl": "https://lh3.googleusercontent.com/a/default-user=s64",
      "userId": "06397507488195711781"
     },
     "user_tz": -480
    },
    "id": "gBY-NvFSEmOs"
   },
   "outputs": [],
   "source": [
    "bonus_pred=model_bonus.predict(X_test_bonus)\n",
    "bonus_pred=np.round(bonus_pred)\n",
    "# f1_score(df_val[\"Edema\"], bonus_pred)"
   ]
  },
  {
   "cell_type": "code",
   "execution_count": 70,
   "id": "oXsFKb2Ng25Y",
   "metadata": {
    "executionInfo": {
     "elapsed": 3848,
     "status": "ok",
     "timestamp": 1640200441465,
     "user": {
      "displayName": "黃允暘",
      "photoUrl": "https://lh3.googleusercontent.com/a/default-user=s64",
      "userId": "06397507488195711781"
     },
     "user_tz": -480
    },
    "id": "oXsFKb2Ng25Y"
   },
   "outputs": [],
   "source": [
    "output_path = STUDENT_ID + '_bonus_prediction.csv'\n",
    "bonus_output = pd.DataFrame()\n",
    "for i in range(len(X_test)):\n",
    "    bonus_output=bonus_output.append({\"\":round(i), 'Edema': int(bonus_pred[i]) }, ignore_index=True)\n",
    "\n",
    "bonus_output.to_csv(output_path, index = False)"
   ]
  },
  {
   "cell_type": "code",
   "execution_count": null,
   "id": "3bd647b0",
   "metadata": {
    "id": "3bd647b0"
   },
   "outputs": [],
   "source": [
    "# advanced ==========================================="
   ]
  },
  {
   "cell_type": "code",
   "execution_count": 11,
   "id": "922377d7",
   "metadata": {
    "executionInfo": {
     "elapsed": 4,
     "status": "ok",
     "timestamp": 1640203049014,
     "user": {
      "displayName": "黃允暘",
      "photoUrl": "https://lh3.googleusercontent.com/a/default-user=s64",
      "userId": "06397507488195711781"
     },
     "user_tz": -480
    },
    "id": "922377d7"
   },
   "outputs": [],
   "source": [
    "def generate_model():    \n",
    "    model = Sequential() \n",
    "\n",
    "    #first convolutional layer\n",
    "    model.add(Conv2D(32, kernel_size=3, input_shape = (128, 128, 1), activation = 'relu'))\n",
    "    model.add(Conv2D(32, kernel_size=3, activation = 'relu'))\n",
    "    model.add(MaxPooling2D(pool_size = (2, 2)))\n",
    "\n",
    "    # Second convolutional layer\n",
    "    model.add(Conv2D(32, kernel_size=3, activation = 'relu'))\n",
    "    model.add(Conv2D(32, kernel_size=3, activation = 'relu'))\n",
    "    model.add(MaxPooling2D(pool_size = (2, 2)))\n",
    "\n",
    "    # Third convolutional layer\n",
    "    model.add(Conv2D(32, kernel_size=3, activation = 'relu'))\n",
    "    model.add(Conv2D(32, kernel_size=3, activation = 'relu'))\n",
    "    model.add(Conv2D(32, kernel_size=3, activation = 'relu'))\n",
    "    model.add(Conv2D(32, kernel_size=3, activation = 'relu'))\n",
    "    model.add(MaxPooling2D(pool_size=(2, 2)))\n",
    "\n",
    "    model.add(Flatten())\n",
    "\n",
    "    model.add(Dense(units=128, activation = 'relu'))\n",
    "    model.add(Dense(units=1, activation = 'sigmoid'))\n",
    "\n",
    "    model.compile(optimizer = 'adam', loss = 'binary_crossentropy', metrics = ['accuracy'])\n",
    "    \n",
    "    \n",
    "    return model"
   ]
  },
  {
   "cell_type": "code",
   "execution_count": 32,
   "id": "NwhA_IxSpnAu",
   "metadata": {
    "colab": {
     "base_uri": "https://localhost:8080/"
    },
    "executionInfo": {
     "elapsed": 263185,
     "status": "ok",
     "timestamp": 1640202245412,
     "user": {
      "displayName": "黃允暘",
      "photoUrl": "https://lh3.googleusercontent.com/a/default-user=s64",
      "userId": "06397507488195711781"
     },
     "user_tz": -480
    },
    "id": "NwhA_IxSpnAu",
    "outputId": "19118e49-cf57-483a-a0df-eb7885bb5470"
   },
   "outputs": [],
   "source": [
    "# 7 lable 0.62\n",
    "# model_advanced = generate_model()\n",
    "# history_advanced = model_advanced.fit(X_train, Y_train_advanced, validation_data=(X_val, Y_val_advanced), epochs=10)\n",
    "# model_advanced.save('advanced_model.h5')"
   ]
  },
  {
   "cell_type": "code",
   "execution_count": 33,
   "id": "8cc189a2",
   "metadata": {
    "colab": {
     "base_uri": "https://localhost:8080/"
    },
    "executionInfo": {
     "elapsed": 991,
     "status": "ok",
     "timestamp": 1640200821205,
     "user": {
      "displayName": "黃允暘",
      "photoUrl": "https://lh3.googleusercontent.com/a/default-user=s64",
      "userId": "06397507488195711781"
     },
     "user_tz": -480
    },
    "id": "8cc189a2",
    "outputId": "7ad4b7c3-5bba-478e-faf1-3fc2069d31f9"
   },
   "outputs": [],
   "source": [
    "# for resnet\n",
    "# X_train_temp = X_train\n",
    "# X_train_temp = np.expand_dims(X_train_temp, axis=-1)\n",
    "# X_train_advanced = np.concatenate([X_train_temp, X_train_temp, X_train_temp], axis=-1)\n",
    "# X_train_advanced = np.expand_dims(X_train_advanced, axis=-1)\n",
    "# print(X_train_advanced.shape)\n",
    "# X_val_temp = X_val\n",
    "# X_val_temp = np.expand_dims(X_val_temp, axis=-1)\n",
    "# X_val_advanced = np.concatenate([X_val_temp, X_val_temp, X_val_temp], axis=-1)\n",
    "# X_val_advanced = np.expand_dims(X_val_advanced, axis=-1)\n",
    "# print(X_val_advanced.shape)"
   ]
  },
  {
   "cell_type": "code",
   "execution_count": 27,
   "id": "dgENLNBjlAVZ",
   "metadata": {
    "colab": {
     "base_uri": "https://localhost:8080/",
     "height": 246
    },
    "executionInfo": {
     "elapsed": 4,
     "status": "error",
     "timestamp": 1640202926555,
     "user": {
      "displayName": "黃允暘",
      "photoUrl": "https://lh3.googleusercontent.com/a/default-user=s64",
      "userId": "06397507488195711781"
     },
     "user_tz": -480
    },
    "id": "dgENLNBjlAVZ",
    "outputId": "74f7ef72-028b-4ef6-9a81-8dd9dc62e34d"
   },
   "outputs": [
    {
     "name": "stdout",
     "output_type": "stream",
     "text": [
      "(10000, 7)\n",
      "(1000, 7)\n"
     ]
    }
   ],
   "source": [
    "Y_train_advanced=np.array(df_train)\n",
    "Y_train_advanced=Y_train_advanced[:,0:7]\n",
    "Y_val_advanced=np.array(df_val)\n",
    "Y_val_advanced=Y_val_advanced[:,0:7]\n",
    "print(Y_train_advanced.shape)\n",
    "print(Y_val_advanced.shape)"
   ]
  },
  {
   "cell_type": "code",
   "execution_count": null,
   "id": "QmqISqzgKa2T",
   "metadata": {
    "id": "QmqISqzgKa2T"
   },
   "outputs": [],
   "source": [
    "model_advanced = generate_model()\n",
    "history_advanced = model_advanced.fit(X_train_advanced, Y_train_advanced, validation_data=(X_val_advanced, Y_val_advanced), epochs=5)\n",
    "model_advanced.save('advanced_model.h5')"
   ]
  },
  {
   "cell_type": "code",
   "execution_count": 15,
   "id": "1c41b62f",
   "metadata": {
    "colab": {
     "base_uri": "https://localhost:8080/"
    },
    "id": "1c41b62f",
    "outputId": "932db900-11e6-4038-805a-4094f4d3f79b"
   },
   "outputs": [
    {
     "name": "stdout",
     "output_type": "stream",
     "text": [
      "Epoch 1/5\n",
      "313/313 [==============================] - 241s 770ms/step - loss: 0.2598 - accuracy: 0.9247 - val_loss: 0.2274 - val_accuracy: 0.9310\n",
      "Epoch 2/5\n",
      "313/313 [==============================] - 234s 747ms/step - loss: 0.2420 - accuracy: 0.9264 - val_loss: 0.2258 - val_accuracy: 0.9310\n",
      "Epoch 3/5\n",
      "313/313 [==============================] - 243s 775ms/step - loss: 0.2242 - accuracy: 0.9264 - val_loss: 0.2040 - val_accuracy: 0.9310\n",
      "Epoch 4/5\n",
      "313/313 [==============================] - 229s 733ms/step - loss: 0.2188 - accuracy: 0.9264 - val_loss: 0.2106 - val_accuracy: 0.9310\n",
      "Epoch 5/5\n",
      "313/313 [==============================] - 228s 729ms/step - loss: 0.2113 - accuracy: 0.9264 - val_loss: 0.2122 - val_accuracy: 0.9310\n"
     ]
    }
   ],
   "source": [
    "model1 = generate_model()\n",
    "history1=model1.fit(X_train, df_train[\"Atelectasis\"], validation_data=(X_val, df_val[\"Atelectasis\"]), epochs=5)\n",
    "# # history1=model1.fit(X_train, df_train[\"Atelectasis\"], validation_data=(X_val, df_val[\"Atelectasis\"]), epochs=5)\n",
    "model1.save('Atelectasis_model.h5')"
   ]
  },
  {
   "cell_type": "code",
   "execution_count": 22,
   "id": "e8aaed5e",
   "metadata": {
    "id": "e8aaed5e"
   },
   "outputs": [],
   "source": [
    "# model2 = generate_model()\n",
    "# history2=model2.fit(X_train, df_train[\"Cardiomegaly\"], validation_data=(X_val, df_val[\"Cardiomegaly\"]), epochs=5)\n",
    "# model2.save('Cardiomegaly_model.h5')\n",
    "model2 = keras.models.load_model('Cardiomegaly_model.h5')"
   ]
  },
  {
   "cell_type": "code",
   "execution_count": 23,
   "id": "be83cfd4",
   "metadata": {
    "id": "be83cfd4",
    "scrolled": true
   },
   "outputs": [],
   "source": [
    "# model3 = generate_model()\n",
    "# history3=model3.fit(X_train, df_train[\"Edema\"], validation_data=(X_val, df_val[\"Edema\"]), epochs=5)\n",
    "# # history3=model3.fit(X_train, df_train[\"Edema\"], validation_data=(X_val, df_val[\"Edema\"]), epochs=5)\n",
    "# model3.save('Edema_model.h5')\n",
    "model3 = keras.models.load_model('Edema_model.h5')"
   ]
  },
  {
   "cell_type": "code",
   "execution_count": 12,
   "id": "c3bc84ca",
   "metadata": {
    "id": "c3bc84ca"
   },
   "outputs": [
    {
     "name": "stdout",
     "output_type": "stream",
     "text": [
      "Epoch 1/5\n",
      "313/313 [==============================] - 250s 797ms/step - loss: 0.3165 - accuracy: 0.9036 - val_loss: 0.2607 - val_accuracy: 0.9210\n",
      "Epoch 2/5\n",
      "313/313 [==============================] - 233s 744ms/step - loss: 0.2903 - accuracy: 0.9082 - val_loss: 0.2601 - val_accuracy: 0.9210\n",
      "Epoch 3/5\n",
      "313/313 [==============================] - 238s 761ms/step - loss: 0.2823 - accuracy: 0.9079 - val_loss: 0.2693 - val_accuracy: 0.9200\n",
      "Epoch 4/5\n",
      "313/313 [==============================] - 227s 724ms/step - loss: 0.2753 - accuracy: 0.9085 - val_loss: 0.2574 - val_accuracy: 0.9210\n",
      "Epoch 5/5\n",
      "313/313 [==============================] - 238s 759ms/step - loss: 0.2728 - accuracy: 0.9082 - val_loss: 0.2496 - val_accuracy: 0.9210\n"
     ]
    }
   ],
   "source": [
    "model4 = generate_model()\n",
    "history4=model4.fit(X_train, df_train[\"Lung Opacity\"], validation_data=(X_val, df_val[\"Lung Opacity\"]), epochs=5)\n",
    "# history4=model4.fit(X_train, df_train[\"Lung Opacity\"], validation_data=(X_val, df_val[\"Lung Opacity\"]), epochs=5)\n",
    "model4.save('Lung_Opacity_model.h5')"
   ]
  },
  {
   "cell_type": "code",
   "execution_count": 13,
   "id": "75c65f5f",
   "metadata": {
    "id": "75c65f5f"
   },
   "outputs": [
    {
     "name": "stdout",
     "output_type": "stream",
     "text": [
      "Epoch 1/5\n",
      "313/313 [==============================] - 233s 742ms/step - loss: 0.4881 - accuracy: 0.7758 - val_loss: 0.4454 - val_accuracy: 0.7950\n",
      "Epoch 2/5\n",
      "313/313 [==============================] - 237s 756ms/step - loss: 0.4056 - accuracy: 0.8113 - val_loss: 0.3901 - val_accuracy: 0.8240\n",
      "Epoch 3/5\n",
      "313/313 [==============================] - 248s 791ms/step - loss: 0.3736 - accuracy: 0.8314 - val_loss: 0.3466 - val_accuracy: 0.8470\n",
      "Epoch 4/5\n",
      "313/313 [==============================] - 227s 725ms/step - loss: 0.3579 - accuracy: 0.8417 - val_loss: 0.3603 - val_accuracy: 0.8400\n",
      "Epoch 5/5\n",
      "313/313 [==============================] - 235s 752ms/step - loss: 0.3451 - accuracy: 0.8496 - val_loss: 0.3906 - val_accuracy: 0.8280\n"
     ]
    }
   ],
   "source": [
    "model5 = generate_model()\n",
    "history5=model5.fit(X_train, df_train[\"No Finding\"], validation_data=(X_val, df_val[\"No Finding\"]), epochs=5)\n",
    "# history5=model5.fit(X_train, df_train[\"No Finding\"], validation_data=(X_val, df_val[\"No Finding\"]), epochs=5)\n",
    "model5.save('No_Finding_model.h5')"
   ]
  },
  {
   "cell_type": "code",
   "execution_count": 16,
   "id": "70b90976",
   "metadata": {
    "id": "70b90976"
   },
   "outputs": [
    {
     "name": "stdout",
     "output_type": "stream",
     "text": [
      "Epoch 1/5\n",
      "313/313 [==============================] - 232s 739ms/step - loss: 0.4079 - accuracy: 0.8411 - val_loss: 0.3522 - val_accuracy: 0.8490\n",
      "Epoch 2/5\n",
      "313/313 [==============================] - 227s 724ms/step - loss: 0.3382 - accuracy: 0.8446 - val_loss: 0.3112 - val_accuracy: 0.8640\n",
      "Epoch 3/5\n",
      "313/313 [==============================] - 235s 752ms/step - loss: 0.3102 - accuracy: 0.8539 - val_loss: 0.3184 - val_accuracy: 0.8570\n",
      "Epoch 4/5\n",
      "313/313 [==============================] - 241s 769ms/step - loss: 0.3000 - accuracy: 0.8572 - val_loss: 0.3173 - val_accuracy: 0.8480\n",
      "Epoch 5/5\n",
      "313/313 [==============================] - 224s 714ms/step - loss: 0.2915 - accuracy: 0.8626 - val_loss: 0.2941 - val_accuracy: 0.8580\n"
     ]
    }
   ],
   "source": [
    "model6 = generate_model()\n",
    "history6=model6.fit(X_train, df_train[\"Pleural Effusion\"], validation_data=(X_val, df_val[\"Pleural Effusion\"]), epochs=5)\n",
    "# history6=model6.fit(X_train, df_train[\"Pleural Effusion\"], validation_data=(X_val, df_val[\"Pleural Effusion\"]), epochs=5)\n",
    "model6.save('Pleural_Effusion_model.h5')"
   ]
  },
  {
   "cell_type": "code",
   "execution_count": 19,
   "id": "ff30fe91",
   "metadata": {
    "id": "ff30fe91"
   },
   "outputs": [],
   "source": [
    "# model7 = generate_model()\n",
    "# history7=model7.fit(X_train, df_train[\"Support Devices\"], validation_data=(X_val, df_val[\"Support Devices\"]), epochs=5)\n",
    "# model7.save('Support_Devices_model.h5')\n",
    "model7 = keras.models.load_model('Support_Devices_model.h5')"
   ]
  },
  {
   "cell_type": "code",
   "execution_count": 30,
   "id": "0bHBESJrAV7q",
   "metadata": {
    "id": "0bHBESJrAV7q"
   },
   "outputs": [
    {
     "name": "stdout",
     "output_type": "stream",
     "text": [
      "(1500, 7)\n"
     ]
    }
   ],
   "source": [
    "pred1=model1.predict(X_test)\n",
    "pred2=model2.predict(X_test)\n",
    "pred3=model3.predict(X_test)\n",
    "pred4=model4.predict(X_test)\n",
    "pred5=model5.predict(X_test)\n",
    "pred6=model6.predict(X_test)\n",
    "pred7=model7.predict(X_test)\n",
    "advanced_pred = np.concatenate([pred1, pred2, pred3, pred4, pred5, pred6, pred7], axis=1)\n",
    "advanced_pred=np.round(advanced_pred)\n",
    "print(advanced_pred.shape)"
   ]
  },
  {
   "cell_type": "code",
   "execution_count": 36,
   "id": "thbhLqz5MGlq",
   "metadata": {
    "id": "thbhLqz5MGlq"
   },
   "outputs": [],
   "source": [
    "# advanced_pred=model_advanced.predict(X_val)\n",
    "# advanced_pred=np.round(advanced_pred)\n",
    "# f1_score(Y_val_advanced, advanced_pred, average='weighted')"
   ]
  },
  {
   "cell_type": "code",
   "execution_count": 35,
   "id": "2b5c40cc",
   "metadata": {
    "executionInfo": {
     "elapsed": 6,
     "status": "aborted",
     "timestamp": 1640168348586,
     "user": {
      "displayName": "黃允暘",
      "photoUrl": "https://lh3.googleusercontent.com/a/default-user=s64",
      "userId": "06397507488195711781"
     },
     "user_tz": -480
    },
    "id": "2b5c40cc"
   },
   "outputs": [],
   "source": [
    "output_path = STUDENT_ID + '_advanced_prediction.csv'\n",
    "advanced_output = pd.DataFrame()\n",
    "for i in range(len(X_test)):\n",
    "    advanced_output=advanced_output.append({\"\":round(i), \n",
    "    \"Atelectasis\": int(advanced_pred[i][0]),\n",
    "    \"Cardiomegaly\": int(advanced_pred[i][1]),\n",
    "    \"Edema\": int(advanced_pred[i][2]),\n",
    "    \"Lung Opacity\": int(advanced_pred[i][3]),\n",
    "    \"No Finding\": int(advanced_pred[i][4]),\n",
    "    \"Pleural Effusion\": int(advanced_pred[i][5]),\n",
    "    \"Support Devices\": int(advanced_pred[i][6])}, ignore_index=True)\n",
    "\n",
    "advanced_output.to_csv(output_path, index = False)"
   ]
  },
  {
   "cell_type": "code",
   "execution_count": null,
   "id": "a94ea248",
   "metadata": {
    "id": "a94ea248"
   },
   "outputs": [],
   "source": []
  }
 ],
 "metadata": {
  "accelerator": "GPU",
  "colab": {
   "collapsed_sections": [],
   "name": "HW4_load_data.ipynb",
   "provenance": []
  },
  "kernelspec": {
   "display_name": "Python 3 (ipykernel)",
   "language": "python",
   "name": "python3"
  },
  "language_info": {
   "codemirror_mode": {
    "name": "ipython",
    "version": 3
   },
   "file_extension": ".py",
   "mimetype": "text/x-python",
   "name": "python",
   "nbconvert_exporter": "python",
   "pygments_lexer": "ipython3",
   "version": "3.9.6"
  }
 },
 "nbformat": 4,
 "nbformat_minor": 5
}
