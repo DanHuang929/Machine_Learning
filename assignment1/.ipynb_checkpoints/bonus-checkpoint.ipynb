{
 "cells": [
  {
   "cell_type": "code",
   "execution_count": 1,
   "id": "e0ba7119",
   "metadata": {},
   "outputs": [],
   "source": [
    "#!/usr/bin/env python\n",
    "# coding: utf-8\n",
    "\n",
    "# import packages\n",
    "# Note: You cannot import any other packages!\n",
    "import numpy as np\n",
    "import matplotlib.pyplot as plt\n",
    "import csv\n",
    "import math\n",
    "import random"
   ]
  },
  {
   "cell_type": "code",
   "execution_count": 546,
   "id": "6f29786f",
   "metadata": {},
   "outputs": [],
   "source": [
    "# Global attributes\n",
    "# Do not change anything here except TODO 1 \n",
    "StudentID = '108062313' # TODO 1 : Fill your student ID here\n",
    "input_dataroot = 'bonus_input.csv' # Please name your input csv file as 'input.csv'\n",
    "output_dataroot = StudentID + '_bonus_prediction.csv' # Output file will be named as '[StudentID]_basic_prediction.csv'\n",
    "\n",
    "input_datalist =  [] # Initial datalist, saved as numpy array\n",
    "output_datalist =  [] # Your prediction, should be 20 * 2 matrix and saved as numpy array\n",
    "                      # The format of each row should be [Date, TSMC_Price_Prediction] \n",
    "                      # e.g. ['2021/10/15', 512]\n",
    "\n",
    "# You can add your own global attributes here"
   ]
  },
  {
   "cell_type": "code",
   "execution_count": 547,
   "id": "663beb8c",
   "metadata": {},
   "outputs": [],
   "source": [
    "# Read input csv to datalist\n",
    "with open(input_dataroot, newline='') as csvfile:\n",
    "    input_datalist = np.array(list(csv.reader(csvfile)))"
   ]
  },
  {
   "cell_type": "code",
   "execution_count": 549,
   "id": "40ed5506",
   "metadata": {
    "scrolled": true
   },
   "outputs": [
    {
     "name": "stdout",
     "output_type": "stream",
     "text": [
      "['2021/10/15', '2021/10/18', '2021/10/19', '2021/10/20', '2021/10/21', '2021/10/22', '2021/10/25', '2021/10/26', '2021/10/27', '2021/10/28', '2021/10/29', '2021/11/1', '2021/11/2', '2021/11/3', '2021/11/4', '2021/11/5', '2021/11/8', '2021/11/9', '2021/11/10', '2021/11/11']\n"
     ]
    }
   ],
   "source": [
    "def SplitData(): \n",
    "    validation = input_datalist[0:30,:]\n",
    "    training = input_datalist[0:189,:]\n",
    "    test = input_datalist[189:209,:]\n",
    "    date=[]\n",
    "    for i in range(len(test)):\n",
    "        date.append(test[i][0])\n",
    "    return test, training, validation, date\n",
    "test_datalist, training_datalist, validation_list, test_date= SplitData()\n",
    "print(test_date)"
   ]
  },
  {
   "cell_type": "code",
   "execution_count": 553,
   "id": "f1ffebd3",
   "metadata": {},
   "outputs": [],
   "source": [
    "def PreprocessData(training_datalist):\n",
    "# TODO 3: Preprocess your data  e.g. split datalist to x_datalist and y_datalist\n",
    "    temp=[]\n",
    "    temp2=[]\n",
    "    \n",
    "    X_train=[]\n",
    "    X2_train=[]\n",
    "    Y_train=[]\n",
    "    \n",
    "    X_test=[]\n",
    "    X2_test=[]\n",
    "    Y_test=[]\n",
    "    \n",
    "    for i in range (len(training_datalist)):\n",
    "        temp.append(1)\n",
    "        X_train.append(float(training_datalist[i][1]))\n",
    "        X2_train.append(float(training_datalist[i][2])*10)\n",
    "        Y_train.append(float(training_datalist[i][3]))\n",
    "#     for j in range (len(test_datalist)):\n",
    "#         temp2.append(1)\n",
    "#         date.append(test_datalist[j][0])\n",
    "#         X_test.append(float(test_datalist[j][1]))\n",
    "#         X2_test.append(float(test_datalist[j][2])*10)\n",
    "#         Y_test.append(float(test_datalist[j][3]))\n",
    "    X_train=[X_train,X2_train,temp]\n",
    "    X_train=np.array(X_train)\n",
    "    X_train=X_train.T\n",
    "#     X_test=[X_test,X_test,temp2]\n",
    "#     X_test=np.array(X_test)\n",
    "#     X_test=X_test.T\n",
    "    return X_train, Y_train"
   ]
  },
  {
   "cell_type": "code",
   "execution_count": 437,
   "id": "76318326",
   "metadata": {},
   "outputs": [],
   "source": [
    "def auto_PreprocessData(training_datalist):\n",
    "# TODO 3: Preprocess your data  e.g. split datalist to x_datalist and y_datalist\n",
    "    temp=[]\n",
    "    X_train=[]\n",
    "    X1_train=[]\n",
    "    X2_train=[]\n",
    "    X3_train=[]\n",
    "    X4_train=[]\n",
    "    Y_train=[]\n",
    "    for i in range (len(training_datalist)):\n",
    "        temp.append(1)\n",
    "        if(i!=0):\n",
    "            X1_train.append(float(training_datalist[i-1]))\n",
    "        else:\n",
    "            X1_train.append(float(training_datalist[i]))\n",
    "        if(i!=0 and i!=1):\n",
    "            X2_train.append(float(training_datalist[i-2]))\n",
    "        else:\n",
    "            X2_train.append(float(training_datalist[i]))\n",
    "        if(i!=0 and i!=1 and i!=2):\n",
    "            X3_train.append(float(training_datalist[i-3]))\n",
    "        else:\n",
    "            X3_train.append(float(training_datalist[i]))\n",
    "        if(i!=0 and i!=1 and i!=2 and i!=3):\n",
    "            X4_train.append(float(training_datalist[i-4]))\n",
    "        else:\n",
    "            X4_train.append(float(training_datalist[i]))\n",
    "        Y_train.append(float(training_datalist[i]))\n",
    "    X_train=[X4_train,X3_train,X2_train,X1_train,temp]\n",
    "    X_train=np.array(X_train)\n",
    "    X_train=X_train.T\n",
    "    return X_train, Y_train\n"
   ]
  },
  {
   "cell_type": "code",
   "execution_count": 438,
   "id": "df57f044",
   "metadata": {},
   "outputs": [],
   "source": [
    "def CountLoss(y, y_,X_train):\n",
    "# TODO 5: Count loss of training and validation data\n",
    "    j=[0,0,0,0,0]\n",
    "    s=0\n",
    "    for i in range (len(y)):\n",
    "        difference=y_[i]-y[i]\n",
    "        s=s+abs(difference)\n",
    "        j=j+(difference*X_train[i]) \n",
    "    j=j*2\n",
    "#     print(s/len(y))\n",
    "#     print(\"========\")\n",
    "    return j\n",
    "\n"
   ]
  },
  {
   "cell_type": "code",
   "execution_count": 502,
   "id": "f5c2c361",
   "metadata": {},
   "outputs": [],
   "source": [
    "def TSMC_CountLoss(y, y_,X_train):\n",
    "# TODO 5: Count loss of training and validation data\n",
    "    j=[0,0,0]\n",
    "    s=0\n",
    "    for i in range (len(y)):\n",
    "        difference=y_[i]-y[i]\n",
    "        s=s+abs(difference)\n",
    "        j=j+(difference*X_train[i]) \n",
    "    j=j*2\n",
    "#     print(s/len(y))\n",
    "#     print(\"========\")\n",
    "    return j"
   ]
  },
  {
   "cell_type": "code",
   "execution_count": 503,
   "id": "1c985c39",
   "metadata": {},
   "outputs": [],
   "source": [
    "def TSMC_Regression(X_train, Y_train, learning_rate=1e-7, iteration=20):\n",
    "# TODO 4: Implement regression\n",
    "    w=np.array([0,0,0])\n",
    "    for i in range (iteration):\n",
    "        y_=[]\n",
    "        for j in range (len(X_train)):\n",
    "            prediction=np.dot(w.T,X_train[j])\n",
    "            y_.append(prediction)\n",
    "        g=TSMC_CountLoss(Y_train,y_,X_train)\n",
    "        w=w-learning_rate*g/len(X_train)    \n",
    "    print(w)\n",
    "    return w\n"
   ]
  },
  {
   "cell_type": "code",
   "execution_count": 508,
   "id": "1a74ba15",
   "metadata": {
    "scrolled": false
   },
   "outputs": [
    {
     "name": "stdout",
     "output_type": "stream",
     "text": [
      "[-0.75652539  1.24031562 -0.75717049  1.24131305 30.00026013]\n",
      "[912, 895, 889, 909, 905, 890, 904, 913, 898, 901, 916, 907, 900, 914, 915, 903, 910, 919, 909, 908, 920, 916, 908, 917, 920, 910, 913, 921, 914, 911]\n",
      "[912.0, 901.0, 927.0, 933.0, 919.0, 896.0, 903.0, 912.0, 901.0, 925.0, 927.0, 947.0, 935.0, 936.0, 940.0, 911.0, 915.0, 920.0, 959.0, 957.0, 913.0, 905.0, 885.0, 892.0, 867.0, 871.0, 911.0, 910.0, 871.0]\n",
      "19.896551724137932\n",
      "2.174107096883917\n"
     ]
    }
   ],
   "source": [
    "def MTK_AutoRegression(X_train, Y_train, learning_rate=(1e-7), iteration=30):\n",
    "    # TODO 4: Implement regression\n",
    "#     X_train=[X4_train,X3_train,X2_train,X1_train,temp]\n",
    "    w=np.array([-1,1,-1,1,30])\n",
    "    for i in range (iteration):\n",
    "        y_=[]\n",
    "        for j in range (len(X_train)):\n",
    "            prediction=np.dot(w.T,X_train[j])\n",
    "            y_.append(prediction)\n",
    "        g=CountLoss(Y_train,y_,X_train)\n",
    "        if((abs(learning_rate*g[0]/len(X_train))) < 1e-5 ):\n",
    "            return w\n",
    "        w=w-learning_rate*g/len(X_train)    \n",
    "    print(w)\n",
    "    return w\n",
    "MTK_X_train,MTK_Y_train= auto_PreprocessData(training_datalist[:,1])\n",
    "# MTK_X_test,MTK_Y_test= auto_PreprocessData(test_datalist[:,1])\n",
    "MTK_w=MTK_AutoRegression(MTK_X_train, MTK_Y_train)\n",
    "MTK_future=Auto_MakePrediction(MTK_Y_train[-1],MTK_Y_train[-2],MTK_Y_train[-3],MTK_Y_train[-4],MTK_w)\n",
    "print(MTK_future)\n",
    "\n",
    "print(MTK_Y_test)\n",
    "print(evaluate(MTK_future,MTK_Y_test))"
   ]
  },
  {
   "cell_type": "code",
   "execution_count": 509,
   "id": "59cdad66",
   "metadata": {},
   "outputs": [
    {
     "name": "stdout",
     "output_type": "stream",
     "text": [
      "[-0.79740669  1.20209821 -0.79700267  1.20307762 10.00382575]\n",
      "[61, 59, 57, 55, 53, 51, 49, 48, 47, 46, 46, 46, 46, 47, 48, 48, 49, 50, 50, 50, 51, 51, 50, 50, 50, 49, 49, 50, 50, 50]\n",
      "[62.8, 63.1, 64.1, 64.0, 70.0, 69.9, 68.2, 65.8, 67.5, 68.2, 66.8, 66.0, 65.6, 66.2, 65.6, 64.6, 65.2, 67.0, 66.3, 65.3, 63.0, 64.0, 62.6, 60.8, 61.1, 59.9, 62.5, 61.1, 61.1]\n",
      "14.562068965517243\n",
      "22.296030238500634\n"
     ]
    }
   ],
   "source": [
    "def UMC_AutoRegression(X_train, Y_train, learning_rate=(1e-5), iteration=30):\n",
    "    # TODO 4: Implement regression\n",
    "    w=np.array([-1,1,-1,1,10])\n",
    "    for i in range (iteration):\n",
    "        y_=[]\n",
    "        for j in range (len(X_train)):\n",
    "            prediction=np.dot(w.T,X_train[j])\n",
    "#             if(j==50):\n",
    "#                 print(prediction)\n",
    "#                 print(X_train[j])\n",
    "            y_.append(prediction)\n",
    "        g=CountLoss(Y_train,y_,X_train)\n",
    "#         if((learning_rate*g[0]/len(X_train)) < 1e-9 ):\n",
    "#             return w\n",
    "        w=w-(learning_rate*g)/len(X_train)\n",
    "    print(w)\n",
    "    return w\n",
    "UMC_X_train,UMC_Y_train= auto_PreprocessData(training_datalist[:,2])\n",
    "# UMC_X_test,UMC_Y_test= auto_PreprocessData(test_datalist[:,2])\n",
    "\n",
    "UMC_w=UMC_AutoRegression(UMC_X_train, UMC_Y_train)\n",
    "UMC_future=Auto_MakePrediction(UMC_Y_train[-1],UMC_Y_train[-2],UMC_Y_train[-3],UMC_Y_train[-4],UMC_w)\n",
    "print(UMC_future)\n",
    "\n",
    "print(UMC_Y_test)\n",
    "print(evaluate(UMC_future,UMC_Y_test))"
   ]
  },
  {
   "cell_type": "code",
   "execution_count": 510,
   "id": "d8f396d2",
   "metadata": {},
   "outputs": [],
   "source": [
    "def evaluate(y_,y):\n",
    "    prediction=0\n",
    "    s=0\n",
    "    for i in range(len(y)):\n",
    "        s=s+abs(y[i]-y_[i])\n",
    "        prediction=prediction+abs((y[i]-y_[i])/y[i])\n",
    "#         print(y[i])\n",
    "#         print(y[i]-y_)\n",
    "#         print((y[i]-y_)/y[i])\n",
    "#         print(\"=======\")\n",
    "    prediction=prediction/len(y)\n",
    "    print(s/len(y))\n",
    "    return prediction*100\n"
   ]
  },
  {
   "cell_type": "code",
   "execution_count": 555,
   "id": "d60b05fa",
   "metadata": {},
   "outputs": [],
   "source": [
    "def Auto_MakePrediction(x1,x2,x3,x4,w):\n",
    "# TODO 6: Make prediction of testing data \n",
    "# [X3_train,X2_train,X1_train,temp]\n",
    "    future=[]\n",
    "    day=[]\n",
    "    for i in range(20):\n",
    "        if(i==0):\n",
    "            y_=np.dot(w,[x4,x3,x2,x1,1])\n",
    "            future.append(int(y_))\n",
    "        elif(i==1):\n",
    "            y_=np.dot(w,[x3,x2,x1,future[0],1])\n",
    "            future.append(int(y_))\n",
    "        elif(i==2):\n",
    "            y_=np.dot(w,[x2,x1,future[0],future[1],1])\n",
    "            future.append(int(y_))\n",
    "        elif(i==3):\n",
    "            y_=np.dot(w,[x1,future[i-3],future[i-2],future[i-1],1])\n",
    "            future.append(int(y_))\n",
    "        else:\n",
    "            y_=np.dot(w,[future[i-4],future[i-3],future[i-2],future[i-1],1])\n",
    "            future.append(int(y_))\n",
    "#     prediction=[date,prediction]\n",
    "    return future"
   ]
  },
  {
   "cell_type": "code",
   "execution_count": 556,
   "id": "35bbffb7",
   "metadata": {},
   "outputs": [],
   "source": [
    "def MakePrediction(x,w,date):\n",
    "# TODO 6: Make prediction of testing data \n",
    "    prediction=[]\n",
    "#     print(len(x))\n",
    "#     print(len(date))\n",
    "    for i in range(len(x)):\n",
    "        y_=np.dot(w,x[i])\n",
    "        prediction.append(int(y_))\n",
    "    prediction=np.array([date,prediction])\n",
    "    return prediction"
   ]
  },
  {
   "cell_type": "code",
   "execution_count": 557,
   "id": "295be2be",
   "metadata": {},
   "outputs": [
    {
     "name": "stdout",
     "output_type": "stream",
     "text": [
      "[0.47308623 0.2773681  0.00051163]\n",
      "[-0.75661323  1.24043707 -0.75739589  1.24126104 30.00026092]\n",
      "[-0.79543927  1.20395349 -0.79526221  1.2046095  10.00366769]\n",
      "[['2021/10/15' '569']\n",
      " ['2021/10/18' '547']\n",
      " ['2021/10/19' '552']\n",
      " ['2021/10/20' '561']\n",
      " ['2021/10/21' '546']\n",
      " ['2021/10/22' '543']\n",
      " ['2021/10/25' '557']\n",
      " ['2021/10/26' '552']\n",
      " ['2021/10/27' '544']\n",
      " ['2021/10/28' '558']\n",
      " ['2021/10/29' '563']\n",
      " ['2021/11/1' '552']\n",
      " ['2021/11/2' '560']\n",
      " ['2021/11/3' '571']\n",
      " ['2021/11/4' '564']\n",
      " ['2021/11/5' '563']\n",
      " ['2021/11/8' '575']\n",
      " ['2021/11/9' '572']\n",
      " ['2021/11/10' '566']\n",
      " ['2021/11/11' '574']]\n"
     ]
    }
   ],
   "source": [
    "# TODO 7: Call functions of TODO 2 to TODO 6, train the model and make prediction\n",
    "test_datalist, training_datalist, validation_list, test_date= SplitData()\n",
    "TSMC_X_train, TSMC_Y_train= PreprocessData(training_datalist)\n",
    "# TSMC_X_test, TSMC_Y_test= PreprocessData(test_datalist)\n",
    "MTK_X_train,MTK_Y_train= auto_PreprocessData(training_datalist[:,1])\n",
    "# MTK_X_test,MTK_Y_test= auto_PreprocessData(test_datalist[:,1])\n",
    "UMC_X_train,UMC_Y_train= auto_PreprocessData(training_datalist[:,2])\n",
    "# UMC_X_test,UMC_Y_test= auto_PreprocessData(test_datalist[:,2])\n",
    "TSMC_w=TSMC_Regression(TSMC_X_train, TSMC_Y_train)\n",
    "# TSMC_prediction=MakePrediction(TSMC_X_test,TSMC_w)\n",
    "\n",
    "MTK_w=MTK_AutoRegression(MTK_X_train, MTK_Y_train)\n",
    "MTK_future=Auto_MakePrediction(MTK_Y_train[-1],MTK_Y_train[-2],MTK_Y_train[-3],MTK_Y_train[-4],MTK_w)\n",
    "UMC_w=UMC_AutoRegression(UMC_X_train, UMC_Y_train)\n",
    "UMC_future=Auto_MakePrediction(UMC_Y_train[-1],UMC_Y_train[-2],UMC_Y_train[-3],UMC_Y_train[-4],UMC_w)\n",
    "\n",
    "future_X_test=[]\n",
    "temp=[]\n",
    "for i in range(len(MTK_future)):\n",
    "    UMC_future[i]=UMC_future[i]*10\n",
    "    temp.append(1)\n",
    "\n",
    "future_X_test=np.array([MTK_future,UMC_future,temp]).T\n",
    "# print(UMC_future)\n",
    "# print(\"======\")\n",
    "output_datalist=np.array(MakePrediction(future_X_test, TSMC_w, test_date)).T\n",
    "# Write prediction to output csv\n",
    "print(output_datalist)\n",
    "# print(TSMC_Y_test)\n",
    "# print(evaluate(output_datalist,TSMC_Y_test))\n",
    "with open(output_dataroot, 'w', newline='', encoding=\"utf-8\") as csvfile:\n",
    "    writer = csv.writer(csvfile)\n",
    "    for row in output_datalist:\n",
    "        writer.writerow(row)"
   ]
  },
  {
   "cell_type": "code",
   "execution_count": null,
   "id": "8b08e12a",
   "metadata": {},
   "outputs": [],
   "source": []
  },
  {
   "cell_type": "code",
   "execution_count": null,
   "id": "710b86a2",
   "metadata": {},
   "outputs": [],
   "source": []
  }
 ],
 "metadata": {
  "kernelspec": {
   "display_name": "Python 3 (ipykernel)",
   "language": "python",
   "name": "python3"
  },
  "language_info": {
   "codemirror_mode": {
    "name": "ipython",
    "version": 3
   },
   "file_extension": ".py",
   "mimetype": "text/x-python",
   "name": "python",
   "nbconvert_exporter": "python",
   "pygments_lexer": "ipython3",
   "version": "3.9.6"
  }
 },
 "nbformat": 4,
 "nbformat_minor": 5
}
