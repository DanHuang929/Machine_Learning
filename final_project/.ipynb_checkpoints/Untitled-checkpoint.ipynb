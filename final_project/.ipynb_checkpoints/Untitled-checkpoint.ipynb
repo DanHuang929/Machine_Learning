{
 "cells": [
  {
   "cell_type": "code",
   "execution_count": 4,
   "id": "d5ba6fe2",
   "metadata": {},
   "outputs": [],
   "source": [
    "import matplotlib.pyplot as plt\n",
    "import numpy as np\n",
    "import os\n",
    "import PIL\n",
    "import tensorflow as tf\n",
    "from sklearn.utils import shuffle\n",
    "from tensorflow import keras\n",
    "from tensorflow.keras import layers\n",
    "from tensorflow.keras.models import Sequential\n",
    "import matplotlib.pyplot as plt\n",
    "from tensorflow.keras.layers import Conv2D, MaxPool2D, Flatten, Dense,Conv1D, MaxPool1D\n",
    "from tensorflow.keras.layers import Dropout, Input, BatchNormalization\n",
    "from sklearn.metrics import confusion_matrix, accuracy_score, f1_score\n",
    "from tensorflow.keras.models import Sequential\n",
    "import tensorflow as tf\n",
    "from tensorflow.keras.losses import categorical_crossentropy, binary_crossentropy\n",
    "from tensorflow.keras.utils import to_categorical\n",
    "import numpy as np\n",
    "import pandas as pd\n",
    "from PIL import Image"
   ]
  },
  {
   "cell_type": "code",
   "execution_count": 5,
   "id": "8d30c212",
   "metadata": {},
   "outputs": [],
   "source": [
    "game = pd.read_csv('game.csv')"
   ]
  },
  {
   "cell_type": "code",
   "execution_count": 6,
   "id": "350d4484",
   "metadata": {},
   "outputs": [],
   "source": [
    "game_num = game.to_numpy()"
   ]
  },
  {
   "cell_type": "code",
   "execution_count": 16,
   "id": "aa67f6d0",
   "metadata": {},
   "outputs": [],
   "source": [
    "def get_players(i):\n",
    "    players=[];\n",
    "    for j in range(0, 30):\n",
    "        players.append(game_num[i][5+j])\n",
    "    date = game_num[i][1]\n",
    "    return (players, date)"
   ]
  },
  {
   "cell_type": "code",
   "execution_count": 27,
   "id": "cd037399",
   "metadata": {},
   "outputs": [],
   "source": [
    "def change_player_data(player):\n",
    "    player_name=player\n",
    "    path = 'players/' + player +'.csv'\n",
    "    player = pd.read_csv(path)\n",
    "    player_data = np.array(player)\n",
    "    \n",
    "    temp=np.zeros(player_data.shape[0])\n",
    "    temp=temp.reshape(player_data.shape[0],1)\n",
    "#     player_data=np.append(player_data,temp, axis=1)\n",
    "\n",
    "    for i in range(0, len(player_data)):\n",
    "        player_data[i][1]=player_data[i][1].replace('/','-')\n",
    "#         print(player_data[i][1])\n",
    "#         if player_data[i][5]==\"Inactive\" or player_data[i][5]==\"Did Not Dress\" or player_data[i][5]==\"Did Not Play\" or player_data[i][5]==\"Not With Team\" or player_data[i][5]==\"Player Suspended\":\n",
    "#             player_data[i][5:]=0\n",
    "#             player_data[i][24]=1\n",
    "    player_data_df = pd.DataFrame(player_data)\n",
    "    player_data_df.to_csv(\"D:/class_note/grade_3_fitst_semester/ML/final_project/player1/\"+ player_name+ \".csv\",index = False)"
   ]
  },
  {
   "cell_type": "code",
   "execution_count": 28,
   "id": "54de8810",
   "metadata": {},
   "outputs": [
    {
     "name": "stdout",
     "output_type": "stream",
     "text": [
      "0\n",
      "100\n",
      "200\n",
      "300\n",
      "400\n",
      "500\n",
      "600\n",
      "700\n",
      "800\n",
      "900\n",
      "1000\n",
      "1100\n",
      "1200\n",
      "1300\n",
      "1400\n",
      "1500\n",
      "1600\n",
      "1700\n",
      "1800\n",
      "1900\n",
      "2000\n",
      "2100\n",
      "2200\n",
      "2300\n",
      "2400\n",
      "2500\n",
      "2600\n",
      "2700\n",
      "2800\n",
      "2900\n",
      "3000\n",
      "3100\n",
      "3200\n",
      "3300\n",
      "3400\n",
      "3500\n",
      "3600\n",
      "3700\n",
      "3800\n",
      "3900\n",
      "4000\n",
      "4100\n",
      "4200\n",
      "4300\n",
      "4400\n",
      "4500\n",
      "4600\n",
      "4700\n",
      "4800\n",
      "4900\n",
      "5000\n",
      "5100\n",
      "5200\n",
      "5300\n",
      "5400\n",
      "5500\n",
      "5600\n",
      "5700\n",
      "5800\n",
      "5900\n",
      "6000\n",
      "6100\n",
      "6200\n",
      "6300\n"
     ]
    }
   ],
   "source": [
    "total_num_of_game  = game_num.shape[0]\n",
    "total_num_of_player_in_one_game = 30\n",
    "for i in range(0, total_num_of_game):\n",
    "    if(i%100==0):\n",
    "        print(i)\n",
    "    players=[]\n",
    "    (players, date) = get_players(i)\n",
    "#     print(i)\n",
    "    for j in range(0, len(players)):\n",
    "        if(players[j]=='none'):\n",
    "            continue\n",
    "        else:\n",
    "            print(players[j])\n",
    "            change_player_data(players[j]);"
   ]
  },
  {
   "cell_type": "code",
   "execution_count": 170,
   "id": "ebb97c71",
   "metadata": {},
   "outputs": [
    {
     "ename": "IndexError",
     "evalue": "list index out of range",
     "output_type": "error",
     "traceback": [
      "\u001b[1;31m---------------------------------------------------------------------------\u001b[0m",
      "\u001b[1;31mIndexError\u001b[0m                                Traceback (most recent call last)",
      "\u001b[1;32m~\\AppData\\Local\\Temp/ipykernel_7412/1028206276.py\u001b[0m in \u001b[0;36m<module>\u001b[1;34m\u001b[0m\n\u001b[1;32m----> 1\u001b[1;33m \u001b[0mprint\u001b[0m\u001b[1;33m(\u001b[0m\u001b[0mplayers\u001b[0m\u001b[1;33m[\u001b[0m\u001b[1;36m779\u001b[0m\u001b[1;33m]\u001b[0m\u001b[1;33m)\u001b[0m\u001b[1;33m\u001b[0m\u001b[1;33m\u001b[0m\u001b[0m\n\u001b[0m",
      "\u001b[1;31mIndexError\u001b[0m: list index out of range"
     ]
    }
   ],
   "source": [
    "print(players[779])"
   ]
  },
  {
   "cell_type": "code",
   "execution_count": null,
   "id": "eb45f09f",
   "metadata": {},
   "outputs": [],
   "source": []
  }
 ],
 "metadata": {
  "kernelspec": {
   "display_name": "Python 3 (ipykernel)",
   "language": "python",
   "name": "python3"
  },
  "language_info": {
   "codemirror_mode": {
    "name": "ipython",
    "version": 3
   },
   "file_extension": ".py",
   "mimetype": "text/x-python",
   "name": "python",
   "nbconvert_exporter": "python",
   "pygments_lexer": "ipython3",
   "version": "3.9.6"
  }
 },
 "nbformat": 4,
 "nbformat_minor": 5
}
