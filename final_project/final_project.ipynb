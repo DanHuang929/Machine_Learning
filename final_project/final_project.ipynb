{
 "cells": [
  {
   "cell_type": "code",
   "execution_count": 192,
   "metadata": {},
   "outputs": [],
   "source": [
    "import numpy as np\n",
    "import pandas as pd\n",
    "from PIL import Image\n",
    "import matplotlib.pyplot as plt\n",
    "import matplotlib.image as img\n",
    "import os\n",
    "import keras\n",
    "from sklearn.metrics import f1_score\n",
    "from tensorflow.keras.models import Model, Sequential \n",
    "from tensorflow.keras.layers import  BatchNormalization, Conv2D, Dropout, MaxPooling2D ,Flatten, Dense\n",
    "from tensorflow.keras.layers import  Conv1D, MaxPooling1D\n",
    "from sklearn.ensemble import RandomForestClassifier\n",
    "import xgboost as xgb\n",
    "from sklearn.svm import SVC \n",
    "from sklearn.linear_model import LinearRegression\n",
    "from sklearn.ensemble import GradientBoostingClassifier\n",
    "from sklearn.neighbors import KNeighborsClassifier\n",
    "from sklearn.ensemble import RandomForestClassifier\n",
    "from sklearn.metrics import accuracy_score\n",
    "from sklearn import utils\n",
    "import matplotlib.pyplot as plt\n",
    "import seaborn as sns; sns.set()"
   ]
  },
  {
   "cell_type": "code",
   "execution_count": 2,
   "metadata": {},
   "outputs": [],
   "source": [
    "game = pd.read_csv('game.csv')"
   ]
  },
  {
   "cell_type": "code",
   "execution_count": 3,
   "metadata": {},
   "outputs": [],
   "source": [
    "game_num = game.to_numpy()\n",
    "pre_num_contest = 3"
   ]
  },
  {
   "cell_type": "code",
   "execution_count": 4,
   "metadata": {},
   "outputs": [],
   "source": [
    "def get_players(i):\n",
    "    players=[];\n",
    "    for j in range(5, 15):\n",
    "        players.append(game_num[i][j])\n",
    "    for j in range(20,30):\n",
    "        players.append(game_num[i][j])\n",
    "    date = game_num[i][1]\n",
    "    players=np.array(players)\n",
    "    return (players, date)"
   ]
  },
  {
   "cell_type": "code",
   "execution_count": 5,
   "metadata": {},
   "outputs": [],
   "source": [
    "def get_player_data(player, date):\n",
    "    num_of_attribute = 23\n",
    "    name=player\n",
    "    X = []\n",
    "    none_player = np.ones((num_of_attribute));\n",
    "    if player=='none':\n",
    "        X.append(none_player)\n",
    "        X.append(none_player)\n",
    "        X.append(none_player)\n",
    "        return X\n",
    "    date_index = 1\n",
    "    \n",
    "    path = 'player2/'+player+'.csv'\n",
    "    player = pd.read_csv(path)\n",
    "    player_data = player.to_numpy()\n",
    "    \n",
    "    for i in range(0, len(player_data)):\n",
    "        if player_data[i][date_index]==date:\n",
    "            for k in range(1, pre_num_contest+1):\n",
    "                if(i-k>=0):\n",
    "                    X.append(player_data[i-k][date_index+1:])\n",
    "                else:\n",
    "                    X.append(none_player)\n",
    "            break\n",
    "    X = np.array(X)\n",
    "    \n",
    "    return X\n",
    "\n",
    "def get_winner(i):\n",
    "    return game_num[i][4]"
   ]
  },
  {
   "cell_type": "code",
   "execution_count": 8,
   "metadata": {},
   "outputs": [],
   "source": [
    "total_num_of_game  = game_num.shape[0]\n",
    "total_num_of_player_in_one_game = 20\n",
    "X=[]\n",
    "Y = [];\n",
    "# for i in range(4, total_num_of_game):\n",
    "#     if(i%50==0):\n",
    "#         print(i)\n",
    "#     players=[]\n",
    "#     (players, date) = get_players(i)\n",
    "#     Y.append(get_winner(i))\n",
    "#     for j in range(0, total_num_of_player_in_one_game):\n",
    "#         if j==0:\n",
    "#             tmp = get_player_data(players[j], date);\n",
    "#         else:   \n",
    "#             test = (get_player_data(players[j], date))\n",
    "#             tmp = np.concatenate((tmp, test));\n",
    "        \n",
    "#     X.append(tmp);\n",
    "\n",
    "# X = np.array(X)\n",
    "# Y = np.array(Y)\n",
    "# print(X.shape)\n",
    "# X = X.reshape(X.shape[0], X.shape[1], X.shape[2], 1)\n",
    "# X = X.astype(float)\n",
    "\n",
    "# print(X.shape)\n",
    "# print(Y.shape)"
   ]
  },
  {
   "cell_type": "code",
   "execution_count": 48,
   "metadata": {},
   "outputs": [],
   "source": [
    "# X_train, Y_train = np.concatenate((X[:1000, :], X[1300:2300, :], X[2600:3600, :], X[3900:4900, :], X[5200:6200, :]), axis=0), np.concatenate((Y[:1000], Y[1300:2300], Y[2600:3600], Y[3900:4900], Y[5200:6200]), axis=0)\n",
    "# X_val, Y_val = np.concatenate((X[1000:1300, :], X[2300:2600, :], X[3600:3900, :], X[4900:5200, :], X[6200:, :]), axis=0), np.concatenate((Y[1000:1300], Y[2300:2600], Y[3600:3900], Y[4900:5200], Y[6200:]), axis=0)"
   ]
  },
  {
   "cell_type": "code",
   "execution_count": 12,
   "metadata": {},
   "outputs": [
    {
     "name": "stdout",
     "output_type": "stream",
     "text": [
      "(5000, 60, 23, 1)\n",
      "(5000,)\n",
      "(1392, 60, 23, 1)\n",
      "(1392,)\n"
     ]
    }
   ],
   "source": [
    "print(X_train.shape)\n",
    "print(Y_train.shape)\n",
    "print(X_val.shape)\n",
    "print(Y_val.shape)"
   ]
  },
  {
   "cell_type": "code",
   "execution_count": 50,
   "metadata": {},
   "outputs": [],
   "source": [
    "# np.save('X_train', X_train)\n",
    "# np.save('Y_train', Y_train)\n",
    "# np.save('X_val', X_val)\n",
    "# np.save('Y_val', Y_val)"
   ]
  },
  {
   "cell_type": "code",
   "execution_count": 170,
   "metadata": {},
   "outputs": [],
   "source": [
    "X_train = np.nan_to_num(np.load('X_train.npy'), copy=True, nan=0.0)\n",
    "Y_train = np.load('Y_train.npy')\n",
    "X_val = np.nan_to_num(np.load('X_val.npy'), copy=True, nan=0.0)\n",
    "Y_val = np.load('Y_val.npy')"
   ]
  },
  {
   "cell_type": "code",
   "execution_count": 171,
   "metadata": {},
   "outputs": [],
   "source": [
    "X_train, Y_train = utils.shuffle(X_train, Y_train)\n",
    "X_val, Y_val = utils.shuffle(X_val, Y_val)"
   ]
  },
  {
   "cell_type": "code",
   "execution_count": 172,
   "metadata": {},
   "outputs": [
    {
     "name": "stdout",
     "output_type": "stream",
     "text": [
      "(5000, 60, 23, 1)\n",
      "(1392, 60, 23, 1)\n",
      "(5000, 1380)\n",
      "(1392, 1380)\n"
     ]
    }
   ],
   "source": [
    "\n",
    "print(X_train.shape)\n",
    "print(X_val.shape)\n",
    "X_train = np.reshape(X_train, (5000, 60*23))\n",
    "X_val = np.reshape(X_val, (1392, 60*23))\n",
    "print(X_train.shape)\n",
    "print(X_val.shape)"
   ]
  },
  {
   "cell_type": "code",
   "execution_count": 190,
   "metadata": {
    "scrolled": true
   },
   "outputs": [
    {
     "name": "stderr",
     "output_type": "stream",
     "text": [
      "c:\\users\\dan89\\appdata\\local\\programs\\python\\python39\\lib\\site-packages\\xgboost\\sklearn.py:1224: UserWarning: The use of label encoder in XGBClassifier is deprecated and will be removed in a future release. To remove this warning, do the following: 1) Pass option use_label_encoder=False when constructing XGBClassifier object; and 2) Encode your labels (y) as integers starting with 0, i.e. 0, 1, 2, ..., [num_class - 1].\n",
      "  warnings.warn(label_encoder_deprecation_msg, UserWarning)\n"
     ]
    },
    {
     "name": "stdout",
     "output_type": "stream",
     "text": [
      "[22:37:20] WARNING: C:/Users/Administrator/workspace/xgboost-win64_release_1.5.1/src/learner.cc:1115: Starting in XGBoost 1.3.0, the default evaluation metric used with the objective 'binary:logistic' was changed from 'error' to 'logloss'. Explicitly set eval_metric if you'd like to restore the old behavior.\n"
     ]
    },
    {
     "data": {
      "text/plain": [
       "0.5790229885057471"
      ]
     },
     "execution_count": 190,
     "metadata": {},
     "output_type": "execute_result"
    }
   ],
   "source": [
    "xgb_model = xgb.XGBClassifier(seed=84)\n",
    "xgb_model.fit(X_train, Y_train)\n",
    "xgb_model.score(X_val, Y_val)\n",
    "# xgb_predict=xgb_model.predict(X_train)\n",
    "# xgb_predict_val=xgb_model.predict(X_val)"
   ]
  },
  {
   "cell_type": "code",
   "execution_count": 188,
   "metadata": {},
   "outputs": [
    {
     "data": {
      "text/plain": [
       "0.5998563218390804"
      ]
     },
     "execution_count": 188,
     "metadata": {},
     "output_type": "execute_result"
    }
   ],
   "source": [
    "svm_model = SVC(gamma='scale',probability=True)\n",
    "svm_model.fit(X_train, Y_train)\n",
    "svm_model.score(X_val, Y_val)\n",
    "# svm_predict=svm_model.predict(X_train)\n",
    "# svm_predict_val=svm_model.predict(X_val)"
   ]
  },
  {
   "cell_type": "code",
   "execution_count": 194,
   "metadata": {},
   "outputs": [
    {
     "ename": "ValueError",
     "evalue": "X.shape[1] = 2 should be equal to 1380, the number of features at training time",
     "output_type": "error",
     "traceback": [
      "\u001b[1;31m---------------------------------------------------------------------------\u001b[0m",
      "\u001b[1;31mValueError\u001b[0m                                Traceback (most recent call last)",
      "\u001b[1;32m~\\AppData\\Local\\Temp/ipykernel_2484/4228794452.py\u001b[0m in \u001b[0;36m<module>\u001b[1;34m\u001b[0m\n\u001b[0;32m     27\u001b[0m \u001b[1;33m\u001b[0m\u001b[0m\n\u001b[0;32m     28\u001b[0m \u001b[0mplt\u001b[0m\u001b[1;33m.\u001b[0m\u001b[0mscatter\u001b[0m\u001b[1;33m(\u001b[0m\u001b[0mX_val\u001b[0m\u001b[1;33m[\u001b[0m\u001b[1;33m:\u001b[0m\u001b[1;33m,\u001b[0m \u001b[1;36m0\u001b[0m\u001b[1;33m]\u001b[0m\u001b[1;33m,\u001b[0m \u001b[0mX_val\u001b[0m\u001b[1;33m[\u001b[0m\u001b[1;33m:\u001b[0m\u001b[1;33m,\u001b[0m \u001b[1;36m1\u001b[0m\u001b[1;33m]\u001b[0m\u001b[1;33m,\u001b[0m \u001b[0mc\u001b[0m\u001b[1;33m=\u001b[0m\u001b[0mY_val\u001b[0m\u001b[1;33m,\u001b[0m \u001b[0ms\u001b[0m\u001b[1;33m=\u001b[0m\u001b[1;36m50\u001b[0m\u001b[1;33m,\u001b[0m \u001b[0mcmap\u001b[0m\u001b[1;33m=\u001b[0m\u001b[1;34m'autumn'\u001b[0m\u001b[1;33m)\u001b[0m\u001b[1;33m\u001b[0m\u001b[1;33m\u001b[0m\u001b[0m\n\u001b[1;32m---> 29\u001b[1;33m \u001b[0mplot_svm_decision_function\u001b[0m\u001b[1;33m(\u001b[0m\u001b[0msvm_model\u001b[0m\u001b[1;33m)\u001b[0m\u001b[1;33m;\u001b[0m\u001b[1;33m\u001b[0m\u001b[1;33m\u001b[0m\u001b[0m\n\u001b[0m",
      "\u001b[1;32m~\\AppData\\Local\\Temp/ipykernel_2484/4228794452.py\u001b[0m in \u001b[0;36mplot_svm_decision_function\u001b[1;34m(model, ax, plot_support)\u001b[0m\n\u001b[0;32m     11\u001b[0m     \u001b[0mY\u001b[0m\u001b[1;33m,\u001b[0m \u001b[0mX\u001b[0m \u001b[1;33m=\u001b[0m \u001b[0mnp\u001b[0m\u001b[1;33m.\u001b[0m\u001b[0mmeshgrid\u001b[0m\u001b[1;33m(\u001b[0m\u001b[0my\u001b[0m\u001b[1;33m,\u001b[0m \u001b[0mx\u001b[0m\u001b[1;33m)\u001b[0m\u001b[1;33m\u001b[0m\u001b[1;33m\u001b[0m\u001b[0m\n\u001b[0;32m     12\u001b[0m     \u001b[0mxy\u001b[0m \u001b[1;33m=\u001b[0m \u001b[0mnp\u001b[0m\u001b[1;33m.\u001b[0m\u001b[0mvstack\u001b[0m\u001b[1;33m(\u001b[0m\u001b[1;33m[\u001b[0m\u001b[0mX\u001b[0m\u001b[1;33m.\u001b[0m\u001b[0mravel\u001b[0m\u001b[1;33m(\u001b[0m\u001b[1;33m)\u001b[0m\u001b[1;33m,\u001b[0m \u001b[0mY\u001b[0m\u001b[1;33m.\u001b[0m\u001b[0mravel\u001b[0m\u001b[1;33m(\u001b[0m\u001b[1;33m)\u001b[0m\u001b[1;33m]\u001b[0m\u001b[1;33m)\u001b[0m\u001b[1;33m.\u001b[0m\u001b[0mT\u001b[0m\u001b[1;33m\u001b[0m\u001b[1;33m\u001b[0m\u001b[0m\n\u001b[1;32m---> 13\u001b[1;33m     \u001b[0mP\u001b[0m \u001b[1;33m=\u001b[0m \u001b[0mmodel\u001b[0m\u001b[1;33m.\u001b[0m\u001b[0mdecision_function\u001b[0m\u001b[1;33m(\u001b[0m\u001b[0mxy\u001b[0m\u001b[1;33m)\u001b[0m\u001b[1;33m.\u001b[0m\u001b[0mreshape\u001b[0m\u001b[1;33m(\u001b[0m\u001b[0mX\u001b[0m\u001b[1;33m.\u001b[0m\u001b[0mshape\u001b[0m\u001b[1;33m)\u001b[0m\u001b[1;33m\u001b[0m\u001b[1;33m\u001b[0m\u001b[0m\n\u001b[0m\u001b[0;32m     14\u001b[0m \u001b[1;33m\u001b[0m\u001b[0m\n\u001b[0;32m     15\u001b[0m     \u001b[1;31m# plot decision boundary and margins\u001b[0m\u001b[1;33m\u001b[0m\u001b[1;33m\u001b[0m\u001b[1;33m\u001b[0m\u001b[0m\n",
      "\u001b[1;32mc:\\users\\dan89\\appdata\\local\\programs\\python\\python39\\lib\\site-packages\\sklearn\\svm\\_base.py\u001b[0m in \u001b[0;36mdecision_function\u001b[1;34m(self, X)\u001b[0m\n\u001b[0;32m    590\u001b[0m         \u001b[0mtransformation\u001b[0m \u001b[0mof\u001b[0m \u001b[0movo\u001b[0m \u001b[0mdecision\u001b[0m \u001b[0mfunction\u001b[0m\u001b[1;33m.\u001b[0m\u001b[1;33m\u001b[0m\u001b[1;33m\u001b[0m\u001b[0m\n\u001b[0;32m    591\u001b[0m         \"\"\"\n\u001b[1;32m--> 592\u001b[1;33m         \u001b[0mdec\u001b[0m \u001b[1;33m=\u001b[0m \u001b[0mself\u001b[0m\u001b[1;33m.\u001b[0m\u001b[0m_decision_function\u001b[0m\u001b[1;33m(\u001b[0m\u001b[0mX\u001b[0m\u001b[1;33m)\u001b[0m\u001b[1;33m\u001b[0m\u001b[1;33m\u001b[0m\u001b[0m\n\u001b[0m\u001b[0;32m    593\u001b[0m         \u001b[1;32mif\u001b[0m \u001b[0mself\u001b[0m\u001b[1;33m.\u001b[0m\u001b[0mdecision_function_shape\u001b[0m \u001b[1;33m==\u001b[0m \u001b[1;34m'ovr'\u001b[0m \u001b[1;32mand\u001b[0m \u001b[0mlen\u001b[0m\u001b[1;33m(\u001b[0m\u001b[0mself\u001b[0m\u001b[1;33m.\u001b[0m\u001b[0mclasses_\u001b[0m\u001b[1;33m)\u001b[0m \u001b[1;33m>\u001b[0m \u001b[1;36m2\u001b[0m\u001b[1;33m:\u001b[0m\u001b[1;33m\u001b[0m\u001b[1;33m\u001b[0m\u001b[0m\n\u001b[0;32m    594\u001b[0m             \u001b[1;32mreturn\u001b[0m \u001b[0m_ovr_decision_function\u001b[0m\u001b[1;33m(\u001b[0m\u001b[0mdec\u001b[0m \u001b[1;33m<\u001b[0m \u001b[1;36m0\u001b[0m\u001b[1;33m,\u001b[0m \u001b[1;33m-\u001b[0m\u001b[0mdec\u001b[0m\u001b[1;33m,\u001b[0m \u001b[0mlen\u001b[0m\u001b[1;33m(\u001b[0m\u001b[0mself\u001b[0m\u001b[1;33m.\u001b[0m\u001b[0mclasses_\u001b[0m\u001b[1;33m)\u001b[0m\u001b[1;33m)\u001b[0m\u001b[1;33m\u001b[0m\u001b[1;33m\u001b[0m\u001b[0m\n",
      "\u001b[1;32mc:\\users\\dan89\\appdata\\local\\programs\\python\\python39\\lib\\site-packages\\sklearn\\svm\\_base.py\u001b[0m in \u001b[0;36m_decision_function\u001b[1;34m(self, X)\u001b[0m\n\u001b[0;32m    415\u001b[0m         \u001b[1;31m# NOTE: _validate_for_predict contains check for is_fitted\u001b[0m\u001b[1;33m\u001b[0m\u001b[1;33m\u001b[0m\u001b[1;33m\u001b[0m\u001b[0m\n\u001b[0;32m    416\u001b[0m         \u001b[1;31m# hence must be placed before any other attributes are used.\u001b[0m\u001b[1;33m\u001b[0m\u001b[1;33m\u001b[0m\u001b[1;33m\u001b[0m\u001b[0m\n\u001b[1;32m--> 417\u001b[1;33m         \u001b[0mX\u001b[0m \u001b[1;33m=\u001b[0m \u001b[0mself\u001b[0m\u001b[1;33m.\u001b[0m\u001b[0m_validate_for_predict\u001b[0m\u001b[1;33m(\u001b[0m\u001b[0mX\u001b[0m\u001b[1;33m)\u001b[0m\u001b[1;33m\u001b[0m\u001b[1;33m\u001b[0m\u001b[0m\n\u001b[0m\u001b[0;32m    418\u001b[0m         \u001b[0mX\u001b[0m \u001b[1;33m=\u001b[0m \u001b[0mself\u001b[0m\u001b[1;33m.\u001b[0m\u001b[0m_compute_kernel\u001b[0m\u001b[1;33m(\u001b[0m\u001b[0mX\u001b[0m\u001b[1;33m)\u001b[0m\u001b[1;33m\u001b[0m\u001b[1;33m\u001b[0m\u001b[0m\n\u001b[0;32m    419\u001b[0m \u001b[1;33m\u001b[0m\u001b[0m\n",
      "\u001b[1;32mc:\\users\\dan89\\appdata\\local\\programs\\python\\python39\\lib\\site-packages\\sklearn\\svm\\_base.py\u001b[0m in \u001b[0;36m_validate_for_predict\u001b[1;34m(self, X)\u001b[0m\n\u001b[0;32m    491\u001b[0m                                  (X.shape[1], self.shape_fit_[0]))\n\u001b[0;32m    492\u001b[0m         \u001b[1;32melif\u001b[0m \u001b[1;32mnot\u001b[0m \u001b[0mcallable\u001b[0m\u001b[1;33m(\u001b[0m\u001b[0mself\u001b[0m\u001b[1;33m.\u001b[0m\u001b[0mkernel\u001b[0m\u001b[1;33m)\u001b[0m \u001b[1;32mand\u001b[0m \u001b[0mX\u001b[0m\u001b[1;33m.\u001b[0m\u001b[0mshape\u001b[0m\u001b[1;33m[\u001b[0m\u001b[1;36m1\u001b[0m\u001b[1;33m]\u001b[0m \u001b[1;33m!=\u001b[0m \u001b[0mself\u001b[0m\u001b[1;33m.\u001b[0m\u001b[0mshape_fit_\u001b[0m\u001b[1;33m[\u001b[0m\u001b[1;36m1\u001b[0m\u001b[1;33m]\u001b[0m\u001b[1;33m:\u001b[0m\u001b[1;33m\u001b[0m\u001b[1;33m\u001b[0m\u001b[0m\n\u001b[1;32m--> 493\u001b[1;33m             raise ValueError(\"X.shape[1] = %d should be equal to %d, \"\n\u001b[0m\u001b[0;32m    494\u001b[0m                              \u001b[1;34m\"the number of features at training time\"\u001b[0m \u001b[1;33m%\u001b[0m\u001b[1;33m\u001b[0m\u001b[1;33m\u001b[0m\u001b[0m\n\u001b[0;32m    495\u001b[0m                              (X.shape[1], self.shape_fit_[1]))\n",
      "\u001b[1;31mValueError\u001b[0m: X.shape[1] = 2 should be equal to 1380, the number of features at training time"
     ]
    },
    {
     "data": {
      "image/png": "[encoded data removed]",
      "text/plain": [
       "<Figure size 432x288 with 1 Axes>"
      ]
     },
     "metadata": {},
     "output_type": "display_data"
    }
   ],
   "source": [
    "def plot_svm_decision_function(model, ax=None, plot_support=True):\n",
    "    \"\"\"Plot the decision function for a 2D SVC\"\"\"\n",
    "    if ax is None:\n",
    "        ax = plt.gca()\n",
    "    xlim = ax.get_xlim()\n",
    "    ylim = ax.get_ylim()\n",
    "    \n",
    "    # create grid to evaluate model\n",
    "    x = np.linspace(xlim[0], xlim[1], 30)\n",
    "    y = np.linspace(ylim[0], ylim[1], 30)\n",
    "    Y, X = np.meshgrid(y, x)\n",
    "    xy = np.vstack([X.ravel(), Y.ravel()]).T\n",
    "    P = model.decision_function(xy).reshape(X.shape)\n",
    "    \n",
    "    # plot decision boundary and margins\n",
    "    ax.contour(X, Y, P, colors='k',\n",
    "               levels=[-1, 0, 1], alpha=0.5,\n",
    "               linestyles=['--', '-', '--'])\n",
    "    \n",
    "    # plot support vectors\n",
    "    if plot_support:\n",
    "        ax.scatter(model.support_vectors_[:, 0],\n",
    "                   model.support_vectors_[:, 1],\n",
    "                   s=300, linewidth=1, facecolors='none');\n",
    "    ax.set_xlim(xlim)\n",
    "    ax.set_ylim(ylim)\n",
    "\n",
    "plt.scatter(X_val[:, 0], X_val[:, 1], c=Y_val, s=50, cmap='autumn')\n",
    "plot_svm_decision_function(svm_model);"
   ]
  },
  {
   "cell_type": "code",
   "execution_count": 189,
   "metadata": {},
   "outputs": [
    {
     "data": {
      "text/plain": [
       "0.5998563218390804"
      ]
     },
     "execution_count": 189,
     "metadata": {},
     "output_type": "execute_result"
    }
   ],
   "source": [
    "GDB_model = GradientBoostingClassifier(loss='deviance', \n",
    "                                       criterion='friedman_mse',\n",
    "                                       max_depth=4, \n",
    "                                       learning_rate=0.1, \n",
    "                                       max_features='sqrt')\n",
    "GDB_model.fit(X_train, Y_train)\n",
    "GDB_model.score(X_val, Y_val)\n",
    "# GDB_predict=GDB_model.predict(X_train)\n",
    "# GDB_predict_val=GDB_model.predict(X_val)"
   ]
  },
  {
   "cell_type": "code",
   "execution_count": 186,
   "metadata": {},
   "outputs": [
    {
     "data": {
      "text/plain": [
       "0.6056034482758621"
      ]
     },
     "execution_count": 186,
     "metadata": {},
     "output_type": "execute_result"
    }
   ],
   "source": [
    "RF_model = RandomForestClassifier(n_estimators = 1000, random_state = 42)\n",
    "RF_model.fit(X_train, Y_train)\n",
    "RF_model.score(X_val, Y_val)"
   ]
  },
  {
   "cell_type": "code",
   "execution_count": 176,
   "metadata": {},
   "outputs": [],
   "source": [
    "xgb_predict=np.reshape(xgb_predict, (5000,1))\n",
    "svm_predict=np.reshape(svm_predict, (5000,1))\n",
    "GDB_predict=np.reshape(GDB_predict, (5000,1))"
   ]
  },
  {
   "cell_type": "code",
   "execution_count": 177,
   "metadata": {},
   "outputs": [],
   "source": [
    "xgb_predict_val=np.reshape(xgb_predict_val, (1392,1))\n",
    "svm_predict_val=np.reshape(svm_predict_val, (1392,1))\n",
    "GDB_predict_val=np.reshape(GDB_predict_val, (1392,1))"
   ]
  },
  {
   "cell_type": "code",
   "execution_count": 178,
   "metadata": {},
   "outputs": [
    {
     "data": {
      "text/plain": [
       "(1392, 1)"
      ]
     },
     "execution_count": 178,
     "metadata": {},
     "output_type": "execute_result"
    }
   ],
   "source": [
    "GDB_predict_val.shape"
   ]
  },
  {
   "cell_type": "code",
   "execution_count": 179,
   "metadata": {},
   "outputs": [],
   "source": [
    "final_X=np.concatenate((xgb_predict,svm_predict,GDB_predict), axis=1)\n",
    "final_X_val=np.concatenate((xgb_predict_val,svm_predict_val,GDB_predict_val), axis=1)"
   ]
  },
  {
   "cell_type": "code",
   "execution_count": 184,
   "metadata": {},
   "outputs": [
    {
     "data": {
      "text/plain": [
       "0.5790229885057471"
      ]
     },
     "execution_count": 184,
     "metadata": {},
     "output_type": "execute_result"
    }
   ],
   "source": [
    "svm_model_final = SVC(gamma='scale',probability=True)\n",
    "svm_model_final.fit(final_X, Y_train)\n",
    "svm_model_final.score(final_X_val, Y_val)"
   ]
  },
  {
   "cell_type": "code",
   "execution_count": null,
   "metadata": {},
   "outputs": [],
   "source": [
    "plot"
   ]
  },
  {
   "cell_type": "code",
   "execution_count": 182,
   "metadata": {},
   "outputs": [
    {
     "name": "stdout",
     "output_type": "stream",
     "text": [
      "Model: \"sequential_24\"\n",
      "_________________________________________________________________\n",
      " Layer (type)                Output Shape              Param #   \n",
      "=================================================================\n",
      " conv1d_28 (Conv1D)          (None, 2, 2)              6         \n",
      "                                                                 \n",
      " batch_normalization_12 (Bat  (None, 2, 2)             8         \n",
      " chNormalization)                                                \n",
      "                                                                 \n",
      " max_pooling1d_22 (MaxPoolin  (None, 1, 2)             0         \n",
      " g1D)                                                            \n",
      "                                                                 \n",
      " flatten_21 (Flatten)        (None, 2)                 0         \n",
      "                                                                 \n",
      " dropout_6 (Dropout)         (None, 2)                 0         \n",
      "                                                                 \n",
      " dense_44 (Dense)            (None, 5)                 15        \n",
      "                                                                 \n",
      " dense_45 (Dense)            (None, 1)                 6         \n",
      "                                                                 \n",
      "=================================================================\n",
      "Total params: 35\n",
      "Trainable params: 31\n",
      "Non-trainable params: 4\n",
      "_________________________________________________________________\n"
     ]
    }
   ],
   "source": [
    "model_basic = Sequential() \n",
    "\n",
    "\n",
    "model_basic.add(Conv1D(2, kernel_size=2, input_shape = (3, 1), activation = 'relu'))\n",
    "# model_basic.add(Conv1D(2, kernel_siz=2, activation = 'relu'))\n",
    "model_basic.add(BatchNormalization())\n",
    "model_basic.add(MaxPooling1D(pool_size = (2)))\n",
    "\n",
    "\n",
    "model_basic.add(Flatten())\n",
    "model_basic.add(Dropout(0.5))\n",
    "# model_basic.add(Dense(units=100, activation = 'relu'))\n",
    "model_basic.add(Dense(units=5, activation = 'relu'))\n",
    "model_basic.add(Dense(units=1, activation = 'relu'))\n",
    "\n",
    "model_basic.compile(optimizer = 'adam', loss = 'binary_crossentropy', metrics = ['accuracy'])\n",
    "\n",
    "model_basic.summary()"
   ]
  },
  {
   "cell_type": "code",
   "execution_count": 183,
   "metadata": {},
   "outputs": [
    {
     "name": "stdout",
     "output_type": "stream",
     "text": [
      "Epoch 1/100\n",
      "250/250 [==============================] - 1s 1ms/step - loss: 1.3462 - accuracy: 0.6206 - val_loss: 2.7856 - val_accuracy: 0.5963\n",
      "Epoch 2/100\n",
      "250/250 [==============================] - 0s 985us/step - loss: 1.2294 - accuracy: 0.6742 - val_loss: 2.8114 - val_accuracy: 0.5963\n",
      "Epoch 3/100\n",
      "250/250 [==============================] - 0s 961us/step - loss: 1.1635 - accuracy: 0.6774 - val_loss: 2.7990 - val_accuracy: 0.5963\n",
      "Epoch 4/100\n",
      "250/250 [==============================] - 0s 1ms/step - loss: 1.0460 - accuracy: 0.6590 - val_loss: 2.7499 - val_accuracy: 0.5963\n",
      "Epoch 5/100\n",
      "250/250 [==============================] - 0s 996us/step - loss: 1.0550 - accuracy: 0.6678 - val_loss: 2.7932 - val_accuracy: 0.5963\n",
      "Epoch 6/100\n",
      "250/250 [==============================] - 0s 987us/step - loss: 0.9779 - accuracy: 0.6826 - val_loss: 2.7657 - val_accuracy: 0.5963\n",
      "Epoch 7/100\n",
      "250/250 [==============================] - 0s 1ms/step - loss: 1.0370 - accuracy: 0.6720 - val_loss: 2.7714 - val_accuracy: 0.5963\n",
      "Epoch 8/100\n",
      "250/250 [==============================] - 0s 976us/step - loss: 1.0210 - accuracy: 0.6894 - val_loss: 2.7785 - val_accuracy: 0.5963\n",
      "Epoch 9/100\n",
      "250/250 [==============================] - 0s 1ms/step - loss: 0.9506 - accuracy: 0.6824 - val_loss: 2.7869 - val_accuracy: 0.5963\n",
      "Epoch 10/100\n",
      "250/250 [==============================] - 0s 1ms/step - loss: 0.9520 - accuracy: 0.6824 - val_loss: 2.8542 - val_accuracy: 0.5963\n",
      "Epoch 11/100\n",
      "250/250 [==============================] - 0s 979us/step - loss: 0.9851 - accuracy: 0.6740 - val_loss: 2.8283 - val_accuracy: 0.5963\n",
      "Epoch 12/100\n",
      "250/250 [==============================] - 0s 1ms/step - loss: 0.9993 - accuracy: 0.6866 - val_loss: 2.8344 - val_accuracy: 0.5963\n",
      "Epoch 13/100\n",
      "250/250 [==============================] - 0s 994us/step - loss: 1.0098 - accuracy: 0.6910 - val_loss: 2.9447 - val_accuracy: 0.5963\n",
      "Epoch 14/100\n",
      "250/250 [==============================] - 0s 996us/step - loss: 0.9883 - accuracy: 0.6920 - val_loss: 3.0062 - val_accuracy: 0.5963\n",
      "Epoch 15/100\n",
      "250/250 [==============================] - 0s 1ms/step - loss: 0.9659 - accuracy: 0.6838 - val_loss: 2.9654 - val_accuracy: 0.5963\n",
      "Epoch 16/100\n",
      "250/250 [==============================] - 0s 1ms/step - loss: 0.9299 - accuracy: 0.6914 - val_loss: 1.2724 - val_accuracy: 0.5963\n",
      "Epoch 17/100\n",
      "250/250 [==============================] - 0s 1ms/step - loss: 0.9630 - accuracy: 0.6930 - val_loss: 2.9143 - val_accuracy: 0.5963\n",
      "Epoch 18/100\n",
      "250/250 [==============================] - 0s 1ms/step - loss: 0.9656 - accuracy: 0.6862 - val_loss: 2.6594 - val_accuracy: 0.5963\n",
      "Epoch 19/100\n",
      "250/250 [==============================] - 0s 987us/step - loss: 0.9460 - accuracy: 0.6880 - val_loss: 1.5166 - val_accuracy: 0.5963\n",
      "Epoch 20/100\n",
      "250/250 [==============================] - 0s 991us/step - loss: 0.9423 - accuracy: 0.6842 - val_loss: 2.5782 - val_accuracy: 0.5963\n",
      "Epoch 21/100\n",
      "250/250 [==============================] - 0s 977us/step - loss: 0.6536 - accuracy: 0.6890 - val_loss: 2.5003 - val_accuracy: 0.5963\n",
      "Epoch 22/100\n",
      "250/250 [==============================] - 0s 987us/step - loss: 0.5055 - accuracy: 0.6870 - val_loss: 2.5286 - val_accuracy: 0.5963\n",
      "Epoch 23/100\n",
      "250/250 [==============================] - 0s 1ms/step - loss: 0.5141 - accuracy: 0.6788 - val_loss: 2.5501 - val_accuracy: 0.5963\n",
      "Epoch 24/100\n",
      "250/250 [==============================] - 0s 1ms/step - loss: 0.5083 - accuracy: 0.6870 - val_loss: 2.5286 - val_accuracy: 0.5963\n",
      "Epoch 25/100\n",
      "250/250 [==============================] - 0s 1ms/step - loss: 0.5218 - accuracy: 0.6736 - val_loss: 2.5369 - val_accuracy: 0.5963\n",
      "Epoch 26/100\n",
      "250/250 [==============================] - 0s 1ms/step - loss: 0.5036 - accuracy: 0.6862 - val_loss: 2.5551 - val_accuracy: 0.5963\n",
      "Epoch 27/100\n",
      "250/250 [==============================] - 0s 1ms/step - loss: 0.5123 - accuracy: 0.6908 - val_loss: 2.5312 - val_accuracy: 0.5963\n",
      "Epoch 28/100\n",
      "250/250 [==============================] - 0s 1ms/step - loss: 0.4987 - accuracy: 0.6972 - val_loss: 2.5519 - val_accuracy: 0.5963\n",
      "Epoch 29/100\n",
      "250/250 [==============================] - 0s 1ms/step - loss: 0.5125 - accuracy: 0.6830 - val_loss: 2.5698 - val_accuracy: 0.5963\n",
      "Epoch 30/100\n",
      "250/250 [==============================] - 0s 1ms/step - loss: 0.5077 - accuracy: 0.6802 - val_loss: 2.6193 - val_accuracy: 0.5963\n",
      "Epoch 31/100\n",
      "250/250 [==============================] - 0s 1ms/step - loss: 0.5144 - accuracy: 0.6868 - val_loss: 2.5274 - val_accuracy: 0.5963\n",
      "Epoch 32/100\n",
      "250/250 [==============================] - 0s 976us/step - loss: 0.5101 - accuracy: 0.6852 - val_loss: 2.5627 - val_accuracy: 0.5963\n",
      "Epoch 33/100\n",
      "250/250 [==============================] - 0s 1ms/step - loss: 0.5054 - accuracy: 0.6834 - val_loss: 2.5530 - val_accuracy: 0.5963\n",
      "Epoch 34/100\n",
      "250/250 [==============================] - 0s 1ms/step - loss: 0.5111 - accuracy: 0.6794 - val_loss: 2.5391 - val_accuracy: 0.5963\n",
      "Epoch 35/100\n",
      "250/250 [==============================] - 0s 1ms/step - loss: 0.5097 - accuracy: 0.6850 - val_loss: 2.5969 - val_accuracy: 0.5963\n",
      "Epoch 36/100\n",
      "250/250 [==============================] - 0s 1ms/step - loss: 0.5084 - accuracy: 0.6818 - val_loss: 2.5664 - val_accuracy: 0.5963\n",
      "Epoch 37/100\n",
      "250/250 [==============================] - 0s 989us/step - loss: 0.5048 - accuracy: 0.6844 - val_loss: 2.5860 - val_accuracy: 0.5963\n",
      "Epoch 38/100\n",
      "250/250 [==============================] - 0s 963us/step - loss: 0.5043 - accuracy: 0.6926 - val_loss: 2.6201 - val_accuracy: 0.5963\n",
      "Epoch 39/100\n",
      "250/250 [==============================] - 0s 1ms/step - loss: 0.5079 - accuracy: 0.6778 - val_loss: 2.5482 - val_accuracy: 0.5963\n",
      "Epoch 40/100\n",
      "250/250 [==============================] - 0s 1ms/step - loss: 0.5001 - accuracy: 0.6888 - val_loss: 2.5968 - val_accuracy: 0.5963\n",
      "Epoch 41/100\n",
      "250/250 [==============================] - 0s 996us/step - loss: 0.5098 - accuracy: 0.6834 - val_loss: 2.5785 - val_accuracy: 0.5963\n",
      "Epoch 42/100\n",
      "250/250 [==============================] - 0s 1ms/step - loss: 0.5064 - accuracy: 0.6888 - val_loss: 2.5646 - val_accuracy: 0.5963\n",
      "Epoch 43/100\n",
      "250/250 [==============================] - 0s 1ms/step - loss: 0.5127 - accuracy: 0.6826 - val_loss: 2.5562 - val_accuracy: 0.5963\n",
      "Epoch 44/100\n",
      "250/250 [==============================] - 0s 975us/step - loss: 0.5057 - accuracy: 0.6940 - val_loss: 2.5444 - val_accuracy: 0.5963\n",
      "Epoch 45/100\n",
      "250/250 [==============================] - 0s 1ms/step - loss: 0.5080 - accuracy: 0.6916 - val_loss: 2.6900 - val_accuracy: 0.5963\n",
      "Epoch 46/100\n",
      "250/250 [==============================] - 0s 1ms/step - loss: 0.5073 - accuracy: 0.6944 - val_loss: 2.5856 - val_accuracy: 0.5963\n",
      "Epoch 47/100\n",
      "250/250 [==============================] - 0s 1ms/step - loss: 0.5104 - accuracy: 0.6884 - val_loss: 2.5766 - val_accuracy: 0.5963\n",
      "Epoch 48/100\n",
      "250/250 [==============================] - 0s 1ms/step - loss: 0.5122 - accuracy: 0.6802 - val_loss: 2.5629 - val_accuracy: 0.5963\n",
      "Epoch 49/100\n",
      "250/250 [==============================] - 0s 1ms/step - loss: 0.5166 - accuracy: 0.6886 - val_loss: 2.5680 - val_accuracy: 0.5963\n",
      "Epoch 50/100\n",
      "250/250 [==============================] - 0s 992us/step - loss: 0.5184 - accuracy: 0.6812 - val_loss: 2.5646 - val_accuracy: 0.5963\n",
      "Epoch 51/100\n",
      "250/250 [==============================] - 0s 1ms/step - loss: 0.5066 - accuracy: 0.6972 - val_loss: 2.5184 - val_accuracy: 0.5963\n",
      "Epoch 52/100\n",
      "250/250 [==============================] - 0s 971us/step - loss: 0.5014 - accuracy: 0.6970 - val_loss: 2.5744 - val_accuracy: 0.5963\n",
      "Epoch 53/100\n",
      "250/250 [==============================] - 0s 1ms/step - loss: 0.5127 - accuracy: 0.6766 - val_loss: 2.6016 - val_accuracy: 0.5963\n",
      "Epoch 54/100\n",
      "250/250 [==============================] - 0s 1ms/step - loss: 0.5094 - accuracy: 0.6848 - val_loss: 2.5634 - val_accuracy: 0.5963\n",
      "Epoch 55/100\n",
      "250/250 [==============================] - 0s 1ms/step - loss: 0.5079 - accuracy: 0.6826 - val_loss: 2.5479 - val_accuracy: 0.5963\n",
      "Epoch 56/100\n",
      "250/250 [==============================] - 0s 970us/step - loss: 0.5178 - accuracy: 0.6824 - val_loss: 2.6243 - val_accuracy: 0.5963\n",
      "Epoch 57/100\n",
      "250/250 [==============================] - 0s 1ms/step - loss: 0.5214 - accuracy: 0.6770 - val_loss: 2.5247 - val_accuracy: 0.5963\n"
     ]
    },
    {
     "name": "stdout",
     "output_type": "stream",
     "text": [
      "Epoch 58/100\n",
      "250/250 [==============================] - 0s 1ms/step - loss: 0.5020 - accuracy: 0.6896 - val_loss: 2.5238 - val_accuracy: 0.5963\n",
      "Epoch 59/100\n",
      "250/250 [==============================] - 0s 977us/step - loss: 0.5107 - accuracy: 0.6890 - val_loss: 2.5663 - val_accuracy: 0.5963\n",
      "Epoch 60/100\n",
      "250/250 [==============================] - 0s 1ms/step - loss: 0.5102 - accuracy: 0.6912 - val_loss: 2.5957 - val_accuracy: 0.5963\n",
      "Epoch 61/100\n",
      "250/250 [==============================] - 0s 989us/step - loss: 0.5004 - accuracy: 0.6868 - val_loss: 2.5838 - val_accuracy: 0.5963\n",
      "Epoch 62/100\n",
      "250/250 [==============================] - 0s 980us/step - loss: 0.5094 - accuracy: 0.6898 - val_loss: 2.5779 - val_accuracy: 0.5963\n",
      "Epoch 63/100\n",
      "250/250 [==============================] - 0s 1ms/step - loss: 0.5109 - accuracy: 0.6822 - val_loss: 2.5710 - val_accuracy: 0.5963\n",
      "Epoch 64/100\n",
      "250/250 [==============================] - 0s 1ms/step - loss: 0.5066 - accuracy: 0.6840 - val_loss: 2.6033 - val_accuracy: 0.5963\n",
      "Epoch 65/100\n",
      "250/250 [==============================] - 0s 985us/step - loss: 0.5054 - accuracy: 0.6812 - val_loss: 2.5821 - val_accuracy: 0.5963\n",
      "Epoch 66/100\n",
      "250/250 [==============================] - 0s 1ms/step - loss: 0.5104 - accuracy: 0.6864 - val_loss: 2.5630 - val_accuracy: 0.5963\n",
      "Epoch 67/100\n",
      "250/250 [==============================] - 0s 970us/step - loss: 0.5052 - accuracy: 0.6884 - val_loss: 2.5439 - val_accuracy: 0.5963\n",
      "Epoch 68/100\n",
      "250/250 [==============================] - 0s 1ms/step - loss: 0.5119 - accuracy: 0.6840 - val_loss: 2.5513 - val_accuracy: 0.5963\n",
      "Epoch 69/100\n",
      "250/250 [==============================] - 0s 1ms/step - loss: 0.5161 - accuracy: 0.6908 - val_loss: 2.5345 - val_accuracy: 0.5963\n",
      "Epoch 70/100\n",
      "250/250 [==============================] - 0s 984us/step - loss: 0.5108 - accuracy: 0.6894 - val_loss: 2.5493 - val_accuracy: 0.5963\n",
      "Epoch 71/100\n",
      "250/250 [==============================] - 0s 1ms/step - loss: 0.5069 - accuracy: 0.6898 - val_loss: 2.5741 - val_accuracy: 0.5963\n",
      "Epoch 72/100\n",
      "250/250 [==============================] - 0s 957us/step - loss: 0.5118 - accuracy: 0.6868 - val_loss: 2.5351 - val_accuracy: 0.5963\n",
      "Epoch 73/100\n",
      "250/250 [==============================] - 0s 1ms/step - loss: 0.5105 - accuracy: 0.6892 - val_loss: 2.5903 - val_accuracy: 0.5963\n",
      "Epoch 74/100\n",
      "250/250 [==============================] - 0s 1ms/step - loss: 0.5125 - accuracy: 0.6936 - val_loss: 2.5765 - val_accuracy: 0.5963\n",
      "Epoch 75/100\n",
      "250/250 [==============================] - 0s 989us/step - loss: 0.5113 - accuracy: 0.6852 - val_loss: 2.5606 - val_accuracy: 0.5963\n",
      "Epoch 76/100\n",
      "250/250 [==============================] - 0s 983us/step - loss: 0.5102 - accuracy: 0.6904 - val_loss: 2.5408 - val_accuracy: 0.5963\n",
      "Epoch 77/100\n",
      "250/250 [==============================] - 0s 1ms/step - loss: 0.5153 - accuracy: 0.6766 - val_loss: 2.5647 - val_accuracy: 0.5963\n",
      "Epoch 78/100\n",
      "250/250 [==============================] - 0s 995us/step - loss: 0.5158 - accuracy: 0.6842 - val_loss: 2.5971 - val_accuracy: 0.5963\n",
      "Epoch 79/100\n",
      "250/250 [==============================] - 0s 1ms/step - loss: 0.5086 - accuracy: 0.6910 - val_loss: 2.5600 - val_accuracy: 0.5963\n",
      "Epoch 80/100\n",
      "250/250 [==============================] - 0s 987us/step - loss: 0.5140 - accuracy: 0.6782 - val_loss: 2.5417 - val_accuracy: 0.5963\n",
      "Epoch 81/100\n",
      "250/250 [==============================] - 0s 1ms/step - loss: 0.5157 - accuracy: 0.6812 - val_loss: 2.5561 - val_accuracy: 0.5963\n",
      "Epoch 82/100\n",
      "250/250 [==============================] - 0s 1ms/step - loss: 0.5066 - accuracy: 0.6882 - val_loss: 2.5992 - val_accuracy: 0.5963\n",
      "Epoch 83/100\n",
      "250/250 [==============================] - 0s 978us/step - loss: 0.5100 - accuracy: 0.6900 - val_loss: 2.5903 - val_accuracy: 0.5963\n",
      "Epoch 84/100\n",
      "250/250 [==============================] - 0s 985us/step - loss: 0.5034 - accuracy: 0.6882 - val_loss: 2.6183 - val_accuracy: 0.5963\n",
      "Epoch 85/100\n",
      "250/250 [==============================] - 0s 1ms/step - loss: 0.5101 - accuracy: 0.6850 - val_loss: 2.6452 - val_accuracy: 0.5963\n",
      "Epoch 86/100\n",
      "250/250 [==============================] - 0s 963us/step - loss: 0.5059 - accuracy: 0.6880 - val_loss: 2.5709 - val_accuracy: 0.5963\n",
      "Epoch 87/100\n",
      "250/250 [==============================] - 0s 1ms/step - loss: 0.5082 - accuracy: 0.6868 - val_loss: 2.5941 - val_accuracy: 0.5963\n",
      "Epoch 88/100\n",
      "250/250 [==============================] - 0s 954us/step - loss: 0.5225 - accuracy: 0.6742 - val_loss: 2.5882 - val_accuracy: 0.5963\n",
      "Epoch 89/100\n",
      "250/250 [==============================] - 0s 993us/step - loss: 0.5134 - accuracy: 0.6852 - val_loss: 2.5821 - val_accuracy: 0.5963\n",
      "Epoch 90/100\n",
      "250/250 [==============================] - 0s 1ms/step - loss: 0.5218 - accuracy: 0.6810 - val_loss: 2.5847 - val_accuracy: 0.5963\n",
      "Epoch 91/100\n",
      "250/250 [==============================] - 0s 973us/step - loss: 0.5093 - accuracy: 0.6878 - val_loss: 2.5856 - val_accuracy: 0.5963\n",
      "Epoch 92/100\n",
      "250/250 [==============================] - 0s 1ms/step - loss: 0.5189 - accuracy: 0.6712 - val_loss: 2.5703 - val_accuracy: 0.5963\n",
      "Epoch 93/100\n",
      "250/250 [==============================] - 0s 1ms/step - loss: 0.5042 - accuracy: 0.6890 - val_loss: 2.6182 - val_accuracy: 0.5963\n",
      "Epoch 94/100\n",
      "250/250 [==============================] - 0s 1ms/step - loss: 0.5127 - accuracy: 0.6834 - val_loss: 2.5321 - val_accuracy: 0.5963\n",
      "Epoch 95/100\n",
      "250/250 [==============================] - 0s 985us/step - loss: 0.5055 - accuracy: 0.6904 - val_loss: 2.5563 - val_accuracy: 0.5963\n",
      "Epoch 96/100\n",
      "250/250 [==============================] - 0s 967us/step - loss: 0.5001 - accuracy: 0.6874 - val_loss: 2.5628 - val_accuracy: 0.5963\n",
      "Epoch 97/100\n",
      "250/250 [==============================] - 0s 1ms/step - loss: 0.5136 - accuracy: 0.6768 - val_loss: 2.5850 - val_accuracy: 0.5963\n",
      "Epoch 98/100\n",
      "250/250 [==============================] - 0s 1ms/step - loss: 0.5216 - accuracy: 0.6760 - val_loss: 2.6115 - val_accuracy: 0.5963\n",
      "Epoch 99/100\n",
      "250/250 [==============================] - 0s 1ms/step - loss: 0.5139 - accuracy: 0.6878 - val_loss: 2.5517 - val_accuracy: 0.5963\n",
      "Epoch 100/100\n",
      "250/250 [==============================] - 0s 982us/step - loss: 0.5132 - accuracy: 0.6846 - val_loss: 2.5071 - val_accuracy: 0.5963\n"
     ]
    },
    {
     "data": {
      "text/plain": [
       "<keras.callbacks.History at 0x2279eae62b0>"
      ]
     },
     "execution_count": 183,
     "metadata": {},
     "output_type": "execute_result"
    }
   ],
   "source": [
    "model_basic.fit(final_X, Y_train, epochs= 100, batch_size=20, validation_data=(final_X_val, Y_val), shuffle=True)"
   ]
  },
  {
   "cell_type": "code",
   "execution_count": null,
   "metadata": {},
   "outputs": [],
   "source": []
  },
  {
   "cell_type": "code",
   "execution_count": null,
   "metadata": {},
   "outputs": [],
   "source": []
  },
  {
   "cell_type": "code",
   "execution_count": null,
   "metadata": {},
   "outputs": [],
   "source": []
  },
  {
   "cell_type": "code",
   "execution_count": null,
   "metadata": {},
   "outputs": [],
   "source": []
  },
  {
   "cell_type": "code",
   "execution_count": null,
   "metadata": {},
   "outputs": [],
   "source": []
  },
  {
   "cell_type": "code",
   "execution_count": null,
   "metadata": {},
   "outputs": [],
   "source": []
  },
  {
   "cell_type": "code",
   "execution_count": null,
   "metadata": {},
   "outputs": [],
   "source": []
  },
  {
   "cell_type": "code",
   "execution_count": null,
   "metadata": {},
   "outputs": [],
   "source": []
  },
  {
   "cell_type": "code",
   "execution_count": null,
   "metadata": {},
   "outputs": [],
   "source": []
  },
  {
   "cell_type": "code",
   "execution_count": null,
   "metadata": {},
   "outputs": [],
   "source": []
  },
  {
   "cell_type": "code",
   "execution_count": 97,
   "metadata": {},
   "outputs": [
    {
     "name": "stdout",
     "output_type": "stream",
     "text": [
      "INFO:tensorflow:Assets written to: trash\\assets\n"
     ]
    }
   ],
   "source": [
    "model_basic.save(\"trash\")\n",
    "# model_basic"
   ]
  },
  {
   "cell_type": "code",
   "execution_count": 122,
   "metadata": {},
   "outputs": [],
   "source": [
    "predict=model_basic.predict(final_X)\n",
    "predict=np.round(predict)"
   ]
  },
  {
   "cell_type": "code",
   "execution_count": 124,
   "metadata": {},
   "outputs": [
    {
     "data": {
      "text/plain": [
       "0.4882"
      ]
     },
     "execution_count": 124,
     "metadata": {},
     "output_type": "execute_result"
    }
   ],
   "source": [
    "accuracy_score(predict, Y_train)"
   ]
  },
  {
   "cell_type": "code",
   "execution_count": null,
   "metadata": {},
   "outputs": [],
   "source": []
  }
 ],
 "metadata": {
  "kernelspec": {
   "display_name": "Python 3 (ipykernel)",
   "language": "python",
   "name": "python3"
  },
  "language_info": {
   "codemirror_mode": {
    "name": "ipython",
    "version": 3
   },
   "file_extension": ".py",
   "mimetype": "text/x-python",
   "name": "python",
   "nbconvert_exporter": "python",
   "pygments_lexer": "ipython3",
   "version": "3.9.6"
  }
 },
 "nbformat": 4,
 "nbformat_minor": 4
}
